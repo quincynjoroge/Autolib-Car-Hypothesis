{
  "nbformat": 4,
  "nbformat_minor": 0,
  "metadata": {
    "colab": {
      "name": "Autolib car hypothesis testing.ipynb",
      "provenance": [],
      "collapsed_sections": [],
      "toc_visible": true
    },
    "kernelspec": {
      "name": "python3",
      "display_name": "Python 3"
    },
    "language_info": {
      "name": "python"
    }
  },
  "cells": [
    {
      "cell_type": "markdown",
      "metadata": {
        "id": "BhBREZzWrTaq"
      },
      "source": [
        "# **AUTO-LIB CAR SHARING SERVICE COMPANY**"
      ]
    },
    {
      "cell_type": "markdown",
      "metadata": {
        "id": "Hx9g_1tCrbIr"
      },
      "source": [
        "## 1.1 Defining the Question\n",
        "We'll work as a Data Scientist for Autolib, an electric car-sharing service, to look into a claim concerning blue cars based on the Autolib dataset.\n",
        "\n",
        "In order to accomplish so, we must first choose specific places and time periods of interest through sampling, explaining why we chose that strategy, and then conduct hypothesis testing on the claim we have made.\n",
        "\n",
        "A detailed report on our hypothesis can be found [here](https://docs.google.com/document/d/113dMO8j0PRrKXOpX86mRVZiwDs_moH1LmOv3EInqsdc/edit#)."
      ]
    },
    {
      "cell_type": "markdown",
      "metadata": {
        "id": "r_x1AR92snkj"
      },
      "source": [
        "## 1.2 What is our hypothesis? (Research Question)\n",
        "Investigate a claim about the blue cars from the autolib dataset.\n",
        "\n",
        "Null Hypothesis: The mean of Blue Cars taken on weekends is equal to the mean of Utilib Cars taken on weekends\n",
        "\n",
        "μ1=μ2\n",
        "\n",
        "Alternative Hypothesis: The mean of Blue Cars taken on weekends is not equal to the mean of Utilib Cars taken on weekends\n",
        "\n",
        "μ1≠μ2"
      ]
    },
    {
      "cell_type": "markdown",
      "metadata": {
        "id": "Lf4sFo5bQO3Y"
      },
      "source": [
        "## 1.3 Recording the Experimental Design\n",
        "Defining the research question\n",
        "\n",
        "Finding and dealing with outliers, anomalies, and missing data within the dataset.\n",
        "\n",
        "Plotting appropriate univariate and bivariate summaries recording our observations.\n",
        "\n",
        "Implement the solution by performing hypothesis testing."
      ]
    },
    {
      "cell_type": "markdown",
      "metadata": {
        "id": "vj9FmnS2cQ2p"
      },
      "source": [
        "## 1.4 Metrics for Success\n",
        "The study is considered successful if the null hypothesis is true."
      ]
    },
    {
      "cell_type": "markdown",
      "metadata": {
        "id": "JIOdfMzyG_s8"
      },
      "source": [
        "## 1.5 Relevance\n",
        "The data that was used for survey was obtained from an open datasource. The provided dataset is a daily aggregation, by date and postal code, of the number of events on the Autolib network (car-sharing and recharging). The dataset used was ranging from January to July of 2018 and is relevant for this analysis."
      ]
    },
    {
      "cell_type": "markdown",
      "metadata": {
        "id": "37tWA1R8ctmw"
      },
      "source": [
        "## 1.5 Importing Libraries"
      ]
    },
    {
      "cell_type": "code",
      "metadata": {
        "id": "SUZG6Zj7cswU",
        "colab": {
          "base_uri": "https://localhost:8080/"
        },
        "outputId": "a864b189-d04a-44d4-f5f0-6fcc643abb6d"
      },
      "source": [
        "# Importing the necessary libraries\n",
        "import pandas as pd\n",
        "import matplotlib.pyplot as plt\n",
        "import seaborn as sns\n",
        "from scipy.stats import poisson\n",
        "from scipy import stats\n",
        "from scipy.stats import shapiro\n",
        "from statsmodels.stats import weightstats as stests"
      ],
      "execution_count": 1,
      "outputs": [
        {
          "output_type": "stream",
          "text": [
            "/usr/local/lib/python3.7/dist-packages/statsmodels/tools/_testing.py:19: FutureWarning: pandas.util.testing is deprecated. Use the functions in the public API at pandas.testing instead.\n",
            "  import pandas.util.testing as tm\n"
          ],
          "name": "stderr"
        }
      ]
    },
    {
      "cell_type": "markdown",
      "metadata": {
        "id": "f75KwIprcaEc"
      },
      "source": [
        "## 1.6 Reading the datasets"
      ]
    },
    {
      "cell_type": "code",
      "metadata": {
        "id": "kxprpQzfcnwR"
      },
      "source": [
        "# Loading the Dataset from the source i.e. excel\n",
        "# Loading the Dataset that describes the dataset.\n",
        "\n",
        "autolib_desc = pd.read_excel(\"/content/columns_explanation.xlsx\")"
      ],
      "execution_count": 2,
      "outputs": []
    },
    {
      "cell_type": "code",
      "metadata": {
        "id": "U0loeQT7ebNb"
      },
      "source": [
        "# Loading the autolib dataset\n",
        "\n",
        "autolib = pd.read_csv(\"/content/autolib_daily_events_postal_code.csv\")"
      ],
      "execution_count": 3,
      "outputs": []
    },
    {
      "cell_type": "markdown",
      "metadata": {
        "id": "t7FttxX4eniM"
      },
      "source": [
        "## 1.7 Checking the data"
      ]
    },
    {
      "cell_type": "markdown",
      "metadata": {
        "id": "N-HE_RenexUI"
      },
      "source": [
        "### 1.7.1 Previewing the variable definitions dataset"
      ]
    },
    {
      "cell_type": "code",
      "metadata": {
        "colab": {
          "base_uri": "https://localhost:8080/",
          "height": 455
        },
        "id": "wuXmKYZgesab",
        "outputId": "5db94ad9-567d-4e06-adad-1484734da48c"
      },
      "source": [
        "# Previewing the Variable dataset\n",
        "autolib_desc"
      ],
      "execution_count": 4,
      "outputs": [
        {
          "output_type": "execute_result",
          "data": {
            "text/html": [
              "<div>\n",
              "<style scoped>\n",
              "    .dataframe tbody tr th:only-of-type {\n",
              "        vertical-align: middle;\n",
              "    }\n",
              "\n",
              "    .dataframe tbody tr th {\n",
              "        vertical-align: top;\n",
              "    }\n",
              "\n",
              "    .dataframe thead th {\n",
              "        text-align: right;\n",
              "    }\n",
              "</style>\n",
              "<table border=\"1\" class=\"dataframe\">\n",
              "  <thead>\n",
              "    <tr style=\"text-align: right;\">\n",
              "      <th></th>\n",
              "      <th>Column name</th>\n",
              "      <th>explanation</th>\n",
              "    </tr>\n",
              "  </thead>\n",
              "  <tbody>\n",
              "    <tr>\n",
              "      <th>0</th>\n",
              "      <td>Postal code</td>\n",
              "      <td>postal code of the area (in Paris)</td>\n",
              "    </tr>\n",
              "    <tr>\n",
              "      <th>1</th>\n",
              "      <td>date</td>\n",
              "      <td>date of the row aggregation</td>\n",
              "    </tr>\n",
              "    <tr>\n",
              "      <th>2</th>\n",
              "      <td>n_daily_data_points</td>\n",
              "      <td>number of daily data poinst that were availabl...</td>\n",
              "    </tr>\n",
              "    <tr>\n",
              "      <th>3</th>\n",
              "      <td>dayOfWeek</td>\n",
              "      <td>identifier of weekday (0: Monday -&gt; 6: Sunday)</td>\n",
              "    </tr>\n",
              "    <tr>\n",
              "      <th>4</th>\n",
              "      <td>day_type</td>\n",
              "      <td>weekday or weekend</td>\n",
              "    </tr>\n",
              "    <tr>\n",
              "      <th>5</th>\n",
              "      <td>BlueCars_taken_sum</td>\n",
              "      <td>Number of bluecars taken that date in that area</td>\n",
              "    </tr>\n",
              "    <tr>\n",
              "      <th>6</th>\n",
              "      <td>BlueCars_returned_sum</td>\n",
              "      <td>Number of bluecars returned that date in that ...</td>\n",
              "    </tr>\n",
              "    <tr>\n",
              "      <th>7</th>\n",
              "      <td>Utilib_taken_sum</td>\n",
              "      <td>Number of Utilib taken that date in that area</td>\n",
              "    </tr>\n",
              "    <tr>\n",
              "      <th>8</th>\n",
              "      <td>Utilib_returned_sum</td>\n",
              "      <td>Number of Utilib returned that date in that area</td>\n",
              "    </tr>\n",
              "    <tr>\n",
              "      <th>9</th>\n",
              "      <td>Utilib_14_taken_sum</td>\n",
              "      <td>Number of Utilib 1.4 taken that date in that area</td>\n",
              "    </tr>\n",
              "    <tr>\n",
              "      <th>10</th>\n",
              "      <td>Utilib_14_returned_sum</td>\n",
              "      <td>Number of Utilib 1.4 returned that date in tha...</td>\n",
              "    </tr>\n",
              "    <tr>\n",
              "      <th>11</th>\n",
              "      <td>Slots_freed_sum</td>\n",
              "      <td>Number of recharging slots released that date ...</td>\n",
              "    </tr>\n",
              "    <tr>\n",
              "      <th>12</th>\n",
              "      <td>Slots_taken_sum</td>\n",
              "      <td>Number of rechargign slots taken that date in ...</td>\n",
              "    </tr>\n",
              "  </tbody>\n",
              "</table>\n",
              "</div>"
            ],
            "text/plain": [
              "               Column name                                        explanation\n",
              "0              Postal code                 postal code of the area (in Paris)\n",
              "1                     date                        date of the row aggregation\n",
              "2      n_daily_data_points  number of daily data poinst that were availabl...\n",
              "3                dayOfWeek     identifier of weekday (0: Monday -> 6: Sunday)\n",
              "4                 day_type                                 weekday or weekend\n",
              "5       BlueCars_taken_sum    Number of bluecars taken that date in that area\n",
              "6    BlueCars_returned_sum  Number of bluecars returned that date in that ...\n",
              "7         Utilib_taken_sum      Number of Utilib taken that date in that area\n",
              "8      Utilib_returned_sum   Number of Utilib returned that date in that area\n",
              "9      Utilib_14_taken_sum  Number of Utilib 1.4 taken that date in that area\n",
              "10  Utilib_14_returned_sum  Number of Utilib 1.4 returned that date in tha...\n",
              "11         Slots_freed_sum  Number of recharging slots released that date ...\n",
              "12         Slots_taken_sum  Number of rechargign slots taken that date in ..."
            ]
          },
          "metadata": {
            "tags": []
          },
          "execution_count": 4
        }
      ]
    },
    {
      "cell_type": "markdown",
      "metadata": {
        "id": "0tlF2z_gfN76"
      },
      "source": [
        "### 1.7.2 Previewing the autolib dataset"
      ]
    },
    {
      "cell_type": "code",
      "metadata": {
        "colab": {
          "base_uri": "https://localhost:8080/"
        },
        "id": "kgekBtWzfSqH",
        "outputId": "3df3de8e-4cb9-4a3e-a09c-ad358d7ddcee"
      },
      "source": [
        "# Determining the no. of records in our autolib dataset\n",
        "autolib.shape"
      ],
      "execution_count": 5,
      "outputs": [
        {
          "output_type": "execute_result",
          "data": {
            "text/plain": [
              "(16085, 13)"
            ]
          },
          "metadata": {
            "tags": []
          },
          "execution_count": 5
        }
      ]
    },
    {
      "cell_type": "markdown",
      "metadata": {
        "id": "yvQUCnSwfd0R"
      },
      "source": [
        "Our dataset has 16085 rows and 13 columns.\n"
      ]
    },
    {
      "cell_type": "code",
      "metadata": {
        "colab": {
          "base_uri": "https://localhost:8080/",
          "height": 243
        },
        "id": "xKaEpfYXfoq8",
        "outputId": "5c3990e8-c5a6-4e55-c7b8-26ff6e677104"
      },
      "source": [
        "# Previewing the top of our dataset\n",
        "\n",
        "autolib.head()"
      ],
      "execution_count": 6,
      "outputs": [
        {
          "output_type": "execute_result",
          "data": {
            "text/html": [
              "<div>\n",
              "<style scoped>\n",
              "    .dataframe tbody tr th:only-of-type {\n",
              "        vertical-align: middle;\n",
              "    }\n",
              "\n",
              "    .dataframe tbody tr th {\n",
              "        vertical-align: top;\n",
              "    }\n",
              "\n",
              "    .dataframe thead th {\n",
              "        text-align: right;\n",
              "    }\n",
              "</style>\n",
              "<table border=\"1\" class=\"dataframe\">\n",
              "  <thead>\n",
              "    <tr style=\"text-align: right;\">\n",
              "      <th></th>\n",
              "      <th>Postal code</th>\n",
              "      <th>date</th>\n",
              "      <th>n_daily_data_points</th>\n",
              "      <th>dayOfWeek</th>\n",
              "      <th>day_type</th>\n",
              "      <th>BlueCars_taken_sum</th>\n",
              "      <th>BlueCars_returned_sum</th>\n",
              "      <th>Utilib_taken_sum</th>\n",
              "      <th>Utilib_returned_sum</th>\n",
              "      <th>Utilib_14_taken_sum</th>\n",
              "      <th>Utilib_14_returned_sum</th>\n",
              "      <th>Slots_freed_sum</th>\n",
              "      <th>Slots_taken_sum</th>\n",
              "    </tr>\n",
              "  </thead>\n",
              "  <tbody>\n",
              "    <tr>\n",
              "      <th>0</th>\n",
              "      <td>75001</td>\n",
              "      <td>01/01/2018</td>\n",
              "      <td>1440</td>\n",
              "      <td>0</td>\n",
              "      <td>weekday</td>\n",
              "      <td>110</td>\n",
              "      <td>103</td>\n",
              "      <td>3</td>\n",
              "      <td>2</td>\n",
              "      <td>10</td>\n",
              "      <td>9</td>\n",
              "      <td>22</td>\n",
              "      <td>20</td>\n",
              "    </tr>\n",
              "    <tr>\n",
              "      <th>1</th>\n",
              "      <td>75001</td>\n",
              "      <td>01/02/2018</td>\n",
              "      <td>1438</td>\n",
              "      <td>1</td>\n",
              "      <td>weekday</td>\n",
              "      <td>98</td>\n",
              "      <td>94</td>\n",
              "      <td>1</td>\n",
              "      <td>1</td>\n",
              "      <td>8</td>\n",
              "      <td>8</td>\n",
              "      <td>23</td>\n",
              "      <td>22</td>\n",
              "    </tr>\n",
              "    <tr>\n",
              "      <th>2</th>\n",
              "      <td>75001</td>\n",
              "      <td>01/03/2018</td>\n",
              "      <td>1439</td>\n",
              "      <td>2</td>\n",
              "      <td>weekday</td>\n",
              "      <td>138</td>\n",
              "      <td>139</td>\n",
              "      <td>0</td>\n",
              "      <td>0</td>\n",
              "      <td>2</td>\n",
              "      <td>2</td>\n",
              "      <td>27</td>\n",
              "      <td>27</td>\n",
              "    </tr>\n",
              "    <tr>\n",
              "      <th>3</th>\n",
              "      <td>75001</td>\n",
              "      <td>01/04/2018</td>\n",
              "      <td>1320</td>\n",
              "      <td>3</td>\n",
              "      <td>weekday</td>\n",
              "      <td>104</td>\n",
              "      <td>104</td>\n",
              "      <td>2</td>\n",
              "      <td>2</td>\n",
              "      <td>9</td>\n",
              "      <td>8</td>\n",
              "      <td>25</td>\n",
              "      <td>21</td>\n",
              "    </tr>\n",
              "    <tr>\n",
              "      <th>4</th>\n",
              "      <td>75001</td>\n",
              "      <td>01/05/2018</td>\n",
              "      <td>1440</td>\n",
              "      <td>4</td>\n",
              "      <td>weekday</td>\n",
              "      <td>114</td>\n",
              "      <td>117</td>\n",
              "      <td>3</td>\n",
              "      <td>3</td>\n",
              "      <td>6</td>\n",
              "      <td>6</td>\n",
              "      <td>18</td>\n",
              "      <td>20</td>\n",
              "    </tr>\n",
              "  </tbody>\n",
              "</table>\n",
              "</div>"
            ],
            "text/plain": [
              "   Postal code        date  ...  Slots_freed_sum  Slots_taken_sum\n",
              "0        75001  01/01/2018  ...               22               20\n",
              "1        75001  01/02/2018  ...               23               22\n",
              "2        75001  01/03/2018  ...               27               27\n",
              "3        75001  01/04/2018  ...               25               21\n",
              "4        75001  01/05/2018  ...               18               20\n",
              "\n",
              "[5 rows x 13 columns]"
            ]
          },
          "metadata": {
            "tags": []
          },
          "execution_count": 6
        }
      ]
    },
    {
      "cell_type": "code",
      "metadata": {
        "colab": {
          "base_uri": "https://localhost:8080/",
          "height": 243
        },
        "id": "IlDDEPnGfuaq",
        "outputId": "9a597c55-d10a-47f1-e644-70e54eee58ab"
      },
      "source": [
        "# Previewing the bottom of our dataset\n",
        "\n",
        "autolib.tail()"
      ],
      "execution_count": 7,
      "outputs": [
        {
          "output_type": "execute_result",
          "data": {
            "text/html": [
              "<div>\n",
              "<style scoped>\n",
              "    .dataframe tbody tr th:only-of-type {\n",
              "        vertical-align: middle;\n",
              "    }\n",
              "\n",
              "    .dataframe tbody tr th {\n",
              "        vertical-align: top;\n",
              "    }\n",
              "\n",
              "    .dataframe thead th {\n",
              "        text-align: right;\n",
              "    }\n",
              "</style>\n",
              "<table border=\"1\" class=\"dataframe\">\n",
              "  <thead>\n",
              "    <tr style=\"text-align: right;\">\n",
              "      <th></th>\n",
              "      <th>Postal code</th>\n",
              "      <th>date</th>\n",
              "      <th>n_daily_data_points</th>\n",
              "      <th>dayOfWeek</th>\n",
              "      <th>day_type</th>\n",
              "      <th>BlueCars_taken_sum</th>\n",
              "      <th>BlueCars_returned_sum</th>\n",
              "      <th>Utilib_taken_sum</th>\n",
              "      <th>Utilib_returned_sum</th>\n",
              "      <th>Utilib_14_taken_sum</th>\n",
              "      <th>Utilib_14_returned_sum</th>\n",
              "      <th>Slots_freed_sum</th>\n",
              "      <th>Slots_taken_sum</th>\n",
              "    </tr>\n",
              "  </thead>\n",
              "  <tbody>\n",
              "    <tr>\n",
              "      <th>16080</th>\n",
              "      <td>95880</td>\n",
              "      <td>6/15/2018</td>\n",
              "      <td>1440</td>\n",
              "      <td>4</td>\n",
              "      <td>weekday</td>\n",
              "      <td>15</td>\n",
              "      <td>10</td>\n",
              "      <td>0</td>\n",
              "      <td>0</td>\n",
              "      <td>2</td>\n",
              "      <td>3</td>\n",
              "      <td>0</td>\n",
              "      <td>0</td>\n",
              "    </tr>\n",
              "    <tr>\n",
              "      <th>16081</th>\n",
              "      <td>95880</td>\n",
              "      <td>6/16/2018</td>\n",
              "      <td>1440</td>\n",
              "      <td>5</td>\n",
              "      <td>weekend</td>\n",
              "      <td>19</td>\n",
              "      <td>19</td>\n",
              "      <td>0</td>\n",
              "      <td>0</td>\n",
              "      <td>2</td>\n",
              "      <td>1</td>\n",
              "      <td>0</td>\n",
              "      <td>0</td>\n",
              "    </tr>\n",
              "    <tr>\n",
              "      <th>16082</th>\n",
              "      <td>95880</td>\n",
              "      <td>6/17/2018</td>\n",
              "      <td>1440</td>\n",
              "      <td>6</td>\n",
              "      <td>weekend</td>\n",
              "      <td>33</td>\n",
              "      <td>35</td>\n",
              "      <td>1</td>\n",
              "      <td>1</td>\n",
              "      <td>0</td>\n",
              "      <td>0</td>\n",
              "      <td>0</td>\n",
              "      <td>0</td>\n",
              "    </tr>\n",
              "    <tr>\n",
              "      <th>16083</th>\n",
              "      <td>95880</td>\n",
              "      <td>6/18/2018</td>\n",
              "      <td>1440</td>\n",
              "      <td>0</td>\n",
              "      <td>weekday</td>\n",
              "      <td>11</td>\n",
              "      <td>14</td>\n",
              "      <td>3</td>\n",
              "      <td>5</td>\n",
              "      <td>2</td>\n",
              "      <td>2</td>\n",
              "      <td>0</td>\n",
              "      <td>0</td>\n",
              "    </tr>\n",
              "    <tr>\n",
              "      <th>16084</th>\n",
              "      <td>95880</td>\n",
              "      <td>6/19/2018</td>\n",
              "      <td>1370</td>\n",
              "      <td>1</td>\n",
              "      <td>weekday</td>\n",
              "      <td>2</td>\n",
              "      <td>2</td>\n",
              "      <td>2</td>\n",
              "      <td>1</td>\n",
              "      <td>0</td>\n",
              "      <td>0</td>\n",
              "      <td>0</td>\n",
              "      <td>0</td>\n",
              "    </tr>\n",
              "  </tbody>\n",
              "</table>\n",
              "</div>"
            ],
            "text/plain": [
              "       Postal code       date  ...  Slots_freed_sum  Slots_taken_sum\n",
              "16080        95880  6/15/2018  ...                0                0\n",
              "16081        95880  6/16/2018  ...                0                0\n",
              "16082        95880  6/17/2018  ...                0                0\n",
              "16083        95880  6/18/2018  ...                0                0\n",
              "16084        95880  6/19/2018  ...                0                0\n",
              "\n",
              "[5 rows x 13 columns]"
            ]
          },
          "metadata": {
            "tags": []
          },
          "execution_count": 7
        }
      ]
    },
    {
      "cell_type": "code",
      "metadata": {
        "colab": {
          "base_uri": "https://localhost:8080/"
        },
        "id": "FRNix0HtgBpd",
        "outputId": "bcc28ae2-995d-433a-d273-032878d690ee"
      },
      "source": [
        "# Checking whether each column has an appropriate datatype\n",
        "autolib.dtypes"
      ],
      "execution_count": 8,
      "outputs": [
        {
          "output_type": "execute_result",
          "data": {
            "text/plain": [
              "Postal code                int64\n",
              "date                      object\n",
              "n_daily_data_points        int64\n",
              "dayOfWeek                  int64\n",
              "day_type                  object\n",
              "BlueCars_taken_sum         int64\n",
              "BlueCars_returned_sum      int64\n",
              "Utilib_taken_sum           int64\n",
              "Utilib_returned_sum        int64\n",
              "Utilib_14_taken_sum        int64\n",
              "Utilib_14_returned_sum     int64\n",
              "Slots_freed_sum            int64\n",
              "Slots_taken_sum            int64\n",
              "dtype: object"
            ]
          },
          "metadata": {
            "tags": []
          },
          "execution_count": 8
        }
      ]
    },
    {
      "cell_type": "markdown",
      "metadata": {
        "id": "NDW_yUBigjmD"
      },
      "source": [
        "## 1.8 Tidying the dataset"
      ]
    },
    {
      "cell_type": "markdown",
      "metadata": {
        "id": "qF09heaHgqP2"
      },
      "source": [
        "### 1.8.1 Renaming columns\n"
      ]
    },
    {
      "cell_type": "markdown",
      "metadata": {
        "id": "lg4T1vtHg_gG"
      },
      "source": [
        "Using the same pattern for column names, i.e. using lower case and '_' to make a single word for two-word columns."
      ]
    },
    {
      "cell_type": "code",
      "metadata": {
        "colab": {
          "base_uri": "https://localhost:8080/",
          "height": 225
        },
        "id": "-ou84fk4hIkh",
        "outputId": "e657ba77-fe24-494a-a8b7-b0fb234e3abc"
      },
      "source": [
        "# Using the same format for all column names by:\n",
        "# Renaming the columns to combine the names of the columns into a single word and lowering the case\n",
        "\n",
        "autolib.columns = autolib.columns.str.lower().str.replace(' ', '_')\n",
        "autolib.head()"
      ],
      "execution_count": 9,
      "outputs": [
        {
          "output_type": "execute_result",
          "data": {
            "text/html": [
              "<div>\n",
              "<style scoped>\n",
              "    .dataframe tbody tr th:only-of-type {\n",
              "        vertical-align: middle;\n",
              "    }\n",
              "\n",
              "    .dataframe tbody tr th {\n",
              "        vertical-align: top;\n",
              "    }\n",
              "\n",
              "    .dataframe thead th {\n",
              "        text-align: right;\n",
              "    }\n",
              "</style>\n",
              "<table border=\"1\" class=\"dataframe\">\n",
              "  <thead>\n",
              "    <tr style=\"text-align: right;\">\n",
              "      <th></th>\n",
              "      <th>postal_code</th>\n",
              "      <th>date</th>\n",
              "      <th>n_daily_data_points</th>\n",
              "      <th>dayofweek</th>\n",
              "      <th>day_type</th>\n",
              "      <th>bluecars_taken_sum</th>\n",
              "      <th>bluecars_returned_sum</th>\n",
              "      <th>utilib_taken_sum</th>\n",
              "      <th>utilib_returned_sum</th>\n",
              "      <th>utilib_14_taken_sum</th>\n",
              "      <th>utilib_14_returned_sum</th>\n",
              "      <th>slots_freed_sum</th>\n",
              "      <th>slots_taken_sum</th>\n",
              "    </tr>\n",
              "  </thead>\n",
              "  <tbody>\n",
              "    <tr>\n",
              "      <th>0</th>\n",
              "      <td>75001</td>\n",
              "      <td>01/01/2018</td>\n",
              "      <td>1440</td>\n",
              "      <td>0</td>\n",
              "      <td>weekday</td>\n",
              "      <td>110</td>\n",
              "      <td>103</td>\n",
              "      <td>3</td>\n",
              "      <td>2</td>\n",
              "      <td>10</td>\n",
              "      <td>9</td>\n",
              "      <td>22</td>\n",
              "      <td>20</td>\n",
              "    </tr>\n",
              "    <tr>\n",
              "      <th>1</th>\n",
              "      <td>75001</td>\n",
              "      <td>01/02/2018</td>\n",
              "      <td>1438</td>\n",
              "      <td>1</td>\n",
              "      <td>weekday</td>\n",
              "      <td>98</td>\n",
              "      <td>94</td>\n",
              "      <td>1</td>\n",
              "      <td>1</td>\n",
              "      <td>8</td>\n",
              "      <td>8</td>\n",
              "      <td>23</td>\n",
              "      <td>22</td>\n",
              "    </tr>\n",
              "    <tr>\n",
              "      <th>2</th>\n",
              "      <td>75001</td>\n",
              "      <td>01/03/2018</td>\n",
              "      <td>1439</td>\n",
              "      <td>2</td>\n",
              "      <td>weekday</td>\n",
              "      <td>138</td>\n",
              "      <td>139</td>\n",
              "      <td>0</td>\n",
              "      <td>0</td>\n",
              "      <td>2</td>\n",
              "      <td>2</td>\n",
              "      <td>27</td>\n",
              "      <td>27</td>\n",
              "    </tr>\n",
              "    <tr>\n",
              "      <th>3</th>\n",
              "      <td>75001</td>\n",
              "      <td>01/04/2018</td>\n",
              "      <td>1320</td>\n",
              "      <td>3</td>\n",
              "      <td>weekday</td>\n",
              "      <td>104</td>\n",
              "      <td>104</td>\n",
              "      <td>2</td>\n",
              "      <td>2</td>\n",
              "      <td>9</td>\n",
              "      <td>8</td>\n",
              "      <td>25</td>\n",
              "      <td>21</td>\n",
              "    </tr>\n",
              "    <tr>\n",
              "      <th>4</th>\n",
              "      <td>75001</td>\n",
              "      <td>01/05/2018</td>\n",
              "      <td>1440</td>\n",
              "      <td>4</td>\n",
              "      <td>weekday</td>\n",
              "      <td>114</td>\n",
              "      <td>117</td>\n",
              "      <td>3</td>\n",
              "      <td>3</td>\n",
              "      <td>6</td>\n",
              "      <td>6</td>\n",
              "      <td>18</td>\n",
              "      <td>20</td>\n",
              "    </tr>\n",
              "  </tbody>\n",
              "</table>\n",
              "</div>"
            ],
            "text/plain": [
              "   postal_code        date  ...  slots_freed_sum  slots_taken_sum\n",
              "0        75001  01/01/2018  ...               22               20\n",
              "1        75001  01/02/2018  ...               23               22\n",
              "2        75001  01/03/2018  ...               27               27\n",
              "3        75001  01/04/2018  ...               25               21\n",
              "4        75001  01/05/2018  ...               18               20\n",
              "\n",
              "[5 rows x 13 columns]"
            ]
          },
          "metadata": {
            "tags": []
          },
          "execution_count": 9
        }
      ]
    },
    {
      "cell_type": "markdown",
      "metadata": {
        "id": "WALCespuhvqP"
      },
      "source": [
        "### 1.8.2 Identifying uniques values within the dataset for each column"
      ]
    },
    {
      "cell_type": "code",
      "metadata": {
        "id": "d-JY97BHhuNV",
        "colab": {
          "base_uri": "https://localhost:8080/"
        },
        "outputId": "059ca857-2ef3-4a18-c7d9-76f6c539434d"
      },
      "source": [
        "# Are there any unique values in each column entry in the dataset?\n",
        "for i in autolib.columns:\n",
        " print(autolib[i].unique())\n",
        " print (\"\\n\")"
      ],
      "execution_count": 10,
      "outputs": [
        {
          "output_type": "stream",
          "text": [
            "[75001 75002 75003 75004 75005 75006 75007 75008 75009 75010 75011 75012\n",
            " 75013 75014 75015 75016 75017 75018 75019 75020 75112 75116 78000 78140\n",
            " 78150 91330 91370 91400 92000 92100 92110 92120 92130 92140 92150 92160\n",
            " 92170 92190 92200 92210 92220 92230 92240 92250 92260 92270 92290 92300\n",
            " 92310 92320 92330 92340 92350 92360 92370 92380 92390 92400 92410 92420\n",
            " 92500 92600 92700 92800 93100 93110 93130 93150 93170 93200 93230 93260\n",
            " 93300 93310 93350 93360 93370 93390 93400 93440 93500 93600 93700 93800\n",
            " 94000 94100 94110 94120 94130 94140 94150 94160 94220 94230 94300 94340\n",
            " 94410 94450 94500 94700 94800 95100 95870 95880]\n",
            "\n",
            "\n",
            "['01/01/2018' '01/02/2018' '01/03/2018' '01/04/2018' '01/05/2018'\n",
            " '01/06/2018' '01/07/2018' '01/08/2018' '01/09/2018' '01/10/2018'\n",
            " '01/11/2018' '01/12/2018' '1/13/2018' '1/14/2018' '1/15/2018' '1/16/2018'\n",
            " '1/17/2018' '1/18/2018' '1/19/2018' '1/20/2018' '1/21/2018' '1/22/2018'\n",
            " '1/23/2018' '1/24/2018' '1/25/2018' '1/26/2018' '1/27/2018' '1/28/2018'\n",
            " '1/29/2018' '1/30/2018' '1/31/2018' '02/01/2018' '02/02/2018'\n",
            " '02/03/2018' '02/04/2018' '02/05/2018' '02/06/2018' '02/07/2018'\n",
            " '02/08/2018' '02/09/2018' '02/10/2018' '02/11/2018' '02/12/2018'\n",
            " '2/13/2018' '2/14/2018' '2/15/2018' '2/16/2018' '2/17/2018' '2/18/2018'\n",
            " '2/19/2018' '2/20/2018' '2/21/2018' '2/22/2018' '2/23/2018' '2/24/2018'\n",
            " '2/28/2018' '03/01/2018' '03/02/2018' '03/03/2018' '03/04/2018'\n",
            " '03/05/2018' '03/06/2018' '03/07/2018' '03/08/2018' '03/09/2018'\n",
            " '03/10/2018' '03/11/2018' '03/12/2018' '3/13/2018' '3/14/2018'\n",
            " '3/15/2018' '3/16/2018' '3/17/2018' '3/18/2018' '3/19/2018' '3/20/2018'\n",
            " '3/21/2018' '3/22/2018' '3/23/2018' '3/24/2018' '3/25/2018' '3/26/2018'\n",
            " '3/27/2018' '3/28/2018' '3/29/2018' '3/30/2018' '3/31/2018' '04/01/2018'\n",
            " '04/02/2018' '04/03/2018' '04/04/2018' '04/05/2018' '04/06/2018'\n",
            " '04/07/2018' '04/08/2018' '04/09/2018' '04/10/2018' '04/11/2018'\n",
            " '04/12/2018' '4/13/2018' '4/14/2018' '4/15/2018' '4/16/2018' '4/17/2018'\n",
            " '4/18/2018' '4/19/2018' '4/20/2018' '4/21/2018' '4/22/2018' '4/23/2018'\n",
            " '4/24/2018' '4/25/2018' '4/26/2018' '4/27/2018' '4/28/2018' '4/29/2018'\n",
            " '4/30/2018' '05/01/2018' '05/02/2018' '05/03/2018' '05/04/2018'\n",
            " '05/05/2018' '05/06/2018' '05/07/2018' '05/08/2018' '5/20/2018'\n",
            " '5/21/2018' '5/22/2018' '5/23/2018' '5/24/2018' '5/25/2018' '5/26/2018'\n",
            " '5/27/2018' '5/28/2018' '5/29/2018' '5/30/2018' '5/31/2018' '06/01/2018'\n",
            " '06/02/2018' '06/03/2018' '06/04/2018' '06/05/2018' '06/06/2018'\n",
            " '06/07/2018' '06/08/2018' '06/09/2018' '06/10/2018' '06/11/2018'\n",
            " '06/12/2018' '6/13/2018' '6/14/2018' '6/15/2018' '6/16/2018' '6/17/2018'\n",
            " '6/18/2018' '6/19/2018']\n",
            "\n",
            "\n",
            "[1440 1438 1439 1320 1437 1434 1398 1420 1425 1396 1429 1389 1380 1364\n",
            " 1318 1377 1203 1417 1435 1174 1436 1411 1370]\n",
            "\n",
            "\n",
            "[0 1 2 3 4 5 6]\n",
            "\n",
            "\n",
            "['weekday' 'weekend']\n",
            "\n",
            "\n",
            "[ 110   98  138  104  114  187  180   84   81   88  125  126  224  193\n",
            "  107  116  118  122  130  217  143  123  112  108  145  216  190   83\n",
            "  103  146  199  186  121  113  109  207  160  115   94   99  119  176\n",
            "  157   85  100  135    8   92  127  136  192  168  102  134  197  173\n",
            "  131  196  150  156  231  105  219  179  124  188  139   97  120  159\n",
            "  147  151  129  152  142  141  202  175   96  133  254  137  185  203\n",
            "    6  166  165  243  264  213  164  163  191  276  210  183  148  270\n",
            "  128  280  178  153  158  259  161  240   12  181  140  263  167  177\n",
            "  250  208  171  266  155  247  154  184  293  228  182  144  218  162\n",
            "  239  200  170  174  172  245    5  195  237  331  283  212  211  380\n",
            "  356  233  220  238  384  313  229  221  201  350  327  223  226  234\n",
            "  262  361  335  205  198  346  303  236  341  277  206   25  230  330\n",
            "  286  265  251  412  340  227  357  319  189  375  326  311  284  255\n",
            "  209  215  323  256  204  214  382  315  310  333  260  297  258  241\n",
            "  235  349  305  290  275  194  307  328  242  308  279  288  320  273\n",
            "  261  169  344  334  291  294  278  287  149  370   18  257  397  365\n",
            "  298  299  321  490  427  269  451  363  339  317  416  449  296  306\n",
            "  475  348  446  343  324  304  342  355  267   37  253  401  407  396\n",
            "  282  281  271  395  345  325  292  369  232  318  309  300  314  373\n",
            "  302  377  353  312  347  268  403  364  289  252  301  376   29  405\n",
            "  366  225   24  421  244  391  272  246  222  248  374  387  359   13\n",
            "  249  336  337  274  372  394  379  411  354  295   20  368  285  322\n",
            "  409  358  360  400  393  332  386  422  430  426  442  398  415  525\n",
            "  471  455  458  462  551  520  452  453  467  487  428  482  495  435\n",
            "  464  480  417  577  437  418  489  431  383  414  399   26  425  419\n",
            "  447  459  505  463  424  468  491  492  476  473  423  433  494  516\n",
            "  338  478  497  469  465  537  479  474  524  413  371  466  432  434\n",
            "  316  450  589  501  528  533  484  460  521  518  486  488  485  500\n",
            "   21  378  503  367   27  329  385  457  352  351  381  420  390  477\n",
            "  440  461  443  388   56  438  441  402  408  406   16  499  688  557\n",
            "  738  599  445  714  613  404  679  529  456  702  598  654  602  534\n",
            "  563   69  444  483  737  655  594  697  536  612  579  507  658  593\n",
            "  454  584  362  436  552  472  481  470  539  648  569  581  631  561\n",
            "  540  576  496  696  554  389   49  502  605  634  515  764  673  535\n",
            "  735  666  690  642  448  549  816  609  672  617  541  724   46  439\n",
            "  614  519  661  645  514  637  410  710  590  506  610  623  493  703\n",
            "  542  657  713  504  585  580  517  727  708  680  687  550  734  636\n",
            "  624  722  659  616  767  647  508  575  725  684  792  646  682  523\n",
            "  618  660  649  543   36  513  733  695  544  681  511  643  532  700\n",
            "  652  498  510  603  560  664  555  568  651  526  564  538  800  709\n",
            "  556  826  747  567  573  662   30  429  677  640  611  712  650  559\n",
            "  625   39  632  620  546  586  601  592  698  678  653  691  781  739\n",
            "  669  852 1061  913  694  791  810  881 1255 1097  753  885  831  950\n",
            " 1352 1132  751  718  784  871  963 1248 1014  721  732  880  942 1327\n",
            " 1043  808  794 1118 1036  723  874  872  943 1144 1037  757  765  827\n",
            "   58  897 1136  999  829  805  790  907 1127 1038  766  811  818  898\n",
            " 1209  980  746  819  813  946 1186  981  797  884  833  867 1024  939\n",
            "  839  756  926  893  875 1277 1082  887  962  955 1005 1002  774  936\n",
            " 1023  925  984  899  877  857  865  773  944 1155 1016  840  931  856\n",
            "  938 1335 1152  861  888  985  932 1089 1338 1164  864  994 1032  968\n",
            " 1087 1330  973  920 1093 1001  693  638  741  847  842  668  768  715\n",
            "  835  918  786  728  908 1062  989  796 1069  795 1065  905  760  755\n",
            "  630  982  665  843  824  953  583  748  719  772  770  683  814 1003\n",
            "  853  793  830  804  783 1015  854  780  987  628  825  799  787  777\n",
            "  817  789 1020  894  761  850  919  686  729  606  731  742  801 1088\n",
            "  758  812  745  912  978  866  862  860  917  846 1080  802  837  832\n",
            "  890 1006  901  844  909  988  845  548  553  705  928  692  776  992\n",
            "  701  945  635  929  716  754  706  644  873  803  604   51  629  740\n",
            "  782  991  785  806  763  736  977  834  762  798  720  868  752  667\n",
            "  809  974  707  744  749  923  859   38  392  547  587  566  530   48\n",
            "  596  582  562  588  591  522  730  704  670  627   55  676  531  622\n",
            "  639  545  527   31  619  615  633  571   47  512  600  626  558    7\n",
            "   11    3    4   10    9   14   17   19    0    2   15    1   23   71\n",
            "   43   35   68   67   28   64   70   33   80   63   40   45   62   34\n",
            "   32   59   41   52   74   75   66   78   44   65   93   57   50   53\n",
            "   72   54   82   76   22   42   60  132   79   61  106   73   89   95\n",
            "   91   90   87  111   77   86  101  117]\n",
            "\n",
            "\n",
            "[ 103   94  139  104  117  185  180   83   84   85  125  127  223  193\n",
            "  107  116  118  122  130  217  150  113  146  218  189   81  110  147\n",
            "  204  121   99  112  109  207  165  111   93  119  176  158   86   98\n",
            "  135    9   91  131  137  138  208  177  124  101  145  203  169   96\n",
            "  136  142  196  154  100   97  144  128  179  151  115  232  105  219\n",
            "  143  190  102  159  155  156  120  141  201  133  253  199   95  108\n",
            "  188  126  206  174    7  244  197  153  264  148  164  277  213  149\n",
            "  175  270  198  280  161  178  152  160  257  205  240  123  157   12\n",
            "  265  186  173  140  171  167  255  209  170  266  248  243  183  292\n",
            "  222  134  236  132  181  172  184  168  162  237  163  233  202  283\n",
            "  192  252  211    6  250  187  229  249  338  293  214  212  228  379\n",
            "  359  220  225  245  400  307  221  224  367  334  274  344  340  317\n",
            "  235  342  290  182  241  332  297  195  231  414  329  210  366  319\n",
            "  247  376  331  322  271  328  267  377  311  281  339  305  216  258\n",
            "  284  238  326  275  330  318  304   21  166  279  310  315  300  352\n",
            "  269  254   19  191  333  259  295  262  256  242  341  272  285  288\n",
            "  230  278  303   13  407  356  476  433  302  343  456  372  291  308\n",
            "  301  429  467  321  466  358  306  438  313  299  355  362   16  312\n",
            "  287  261  401  405  260  413  337  298  309  398  375  316  286  426\n",
            "  363  289  320  382  314  349  294  364  346  369  411  378  371   17\n",
            "  399  234  383  227  194  403  325  268  200  423  350  394  365  246\n",
            "  327  226  370  347  273  282  296  408  389  418  324  239  251  416\n",
            "  360  393  396    8  276  409  424  435  442  412  532  492  430  422\n",
            "  460  459  552  545  448  441  465  477  428  488  519  390  406  478\n",
            "  594  380  420  449  368  402   22  427  446  421  457  471  528  454\n",
            "  388  496  523  469  445  453  447  525  417  464  506  512  425  351\n",
            "  432  494  484  529  483  498  535  443  458  392  395  434  462  391\n",
            "  348  444  568  461  463  508  482  534  481  472  518  485  480  415\n",
            "  419   18  336  335  455  521  517  436  263  440  499  410  345  474\n",
            "  381  323  361  384  354  387  439  479  468  450   35  353  397  215\n",
            "   23  513  674  490  716  641  713  644  386  431  690  569  507  711\n",
            "  602  613  570   62  595  563  437  493  630  404  658  629  682  557\n",
            "  625  501  567  676  622  596  526  548  579  522  516  373  510  451\n",
            "  659  649  605  475  667  559  561  489  547  688  584   44  611  621\n",
            "  770  687  509  758  655  473  717  536  798  618  669  603  541  671\n",
            "  735  487   61  651  593  656  642  581  686  607  608  673  684  520\n",
            "  666  685  564  497  571  647  725  503  694  724  696  549  707  645\n",
            "   41  550  617  695  670  633  745  679  514  589  712  504  538  560\n",
            "  783  524  592  634   56  639  572  693  546  678  606  544  627  598\n",
            "  530  533  648  537  600  614  551  565  704  531  554  575  785  543\n",
            "  573  824  742  578  698  680   39  582  654  646  672  624  385  597\n",
            "   42  638  631  553  615  577  566  635  374  558  495  632  650   27\n",
            "  843  720  752  846 1015  971  728  801  806  815  863 1211 1135  778\n",
            "  773  894  828  952 1300 1149  791  721  838 1214 1049  746  839  837\n",
            "  919 1287 1118  807  793 1136 1066  726  731  874  862  928 1117 1072\n",
            "  762  756  805  860 1057  747  830  865 1111 1119  734  819 1210 1046\n",
            "  780  972 1142 1033  706  792  869  967  979  873  767  893  891  840\n",
            " 1171 1189  875  942  995  963 1133 1051  775  763  736  857 1017  708\n",
            "  826  853  947  910  877  854 1146 1045  907  867  813  911 1032 1276\n",
            " 1271  892  982  948 1039 1294 1230 1004 1010 1040 1332 1143  880  914\n",
            "  970  930 1056 1154 1090   52  660  868  851  662  675  741  749  973\n",
            "  940  755  776  901 1077 1003  753  702  769 1061  890  787  808  887\n",
            " 1044  733  989  705  831  871  818  954  585  681  761   60  628  715\n",
            "  790  759  692  739  789  990  833  784  984  847  765  821 1020  861\n",
            "  616  777  729  842  832  834  797  779  915  898  623  714  710  599\n",
            "  816  620  664  697  802  804 1064  881  743  760  903  966  987  878\n",
            "  902  889 1076  855  885  996  879  906   40  542  703  904  677  939\n",
            "  981  612  938  958  771  917  852  643  709  718  845  590  663   57\n",
            "  864  700  969  610  738  757  730  754  983  975  949  737  823  876\n",
            "  665  768  786  772  965  897  883  539  357  502  586   53  604  527\n",
            "  583  470  580  591  576  652  744  689  683  486  699  701   79  500\n",
            "  722  556  811  515  661  653  587   75  588  601  555  562  637  505\n",
            "   55    5   10   20   11    3    4   14   15    1    0   24    2   49\n",
            "   31   34   65   25   30   38   54   76   32   45   50   37   36   28\n",
            "   74   69   33   29   58   47   48   71   43   66   26   51   59   63\n",
            "   46   68   67   64   90  129   77   78   80   89   88   87   72  106\n",
            "   92   70   73  114   82]\n",
            "\n",
            "\n",
            "[ 3  1  0  2  6  5  4  7  8  9 11 17 10 13 18 12 15 16 21 19 14 34 31 23\n",
            " 20 22 24 29 25 28 26 27 46 32 30 43 38 37 40 45 54 36 35 39 42 33 41 47]\n",
            "\n",
            "\n",
            "[ 2  1  0  3  6  5  4  7  8  9 11 17 10 13 18 14 15 12 21 20 16 19 35 32\n",
            " 23 22 24 25 27 26 30 49 28 31 29 43 38 39 36 34 47 45 33 58 41 37 42 40\n",
            " 44]\n",
            "\n",
            "\n",
            "[ 10   8   2   9   6   7   4  11  13  12  15  25   5  14   3  17  16   0\n",
            "   1  21  18  19  22  20  27  23  24  29  26  28  30  33  41  36  34  40\n",
            "  50  45  32  31  35  37  42  38  48  47  52  39  53  43  56  51  75  49\n",
            "  55  44  46  54  57  61  60  70  58  68  62  64  59  66  63  65  72  89\n",
            "  82  69  71  79  84  73  81  80  67  90 100  91  85  74  76  94  78  95\n",
            "  87  93]\n",
            "\n",
            "\n",
            "[  9   8   2   6  10   4  11  13  12  15   7  25   5  14   3  17  16   0\n",
            "   1  21  18  19  20  22  27  23  24  29  34  41  28  35  32  30  26  33\n",
            "  43  50  44  31  36  40  38  48  37  47  53  45  39  51  54  52  46  74\n",
            "  42  57  49  60  63  61  55  66  59  58  67  68  62  64  71  56  69  84\n",
            "  70  72  86  76  80  89  73  94  79  65  93  78  75  77  82  85  88 101\n",
            "  87  90  96  83]\n",
            "\n",
            "\n",
            "[ 22  23  27  25  18  38  34  14  15  11  19  16  21  17  41  24  20  35\n",
            "  36  32  13  28  12  26   0  48  30  29  31  47  33  40  37   9  10  43\n",
            "  44  49  39  42  45  51  46  59  64  56  52   1  50  95  84  83  81  58\n",
            "  61  67 101  86  63  97  60  57  65  80  79  77  54  85  75  73  55   3\n",
            "  62  82  71  69  74  89  91 109  70  76  72  68  78  53  66  87   2   5\n",
            " 120 111  92 110  88 103 142 115 105 113 121  96  90 134 140 130  94  99\n",
            " 128 100 129  98 118 106 119 117 102 107  93 135 104 122 133 108 112 116\n",
            " 123 136 126   6 114 132 177 167 125 124 131 143 139 137 153 180 157 162\n",
            " 152 151 149 156 145 173 147 211 127 141 161 144 163 138 171 158 148 168\n",
            " 154 166 150 170 146 165 178 174 175 176 181 190 160 184 205 253 252 155\n",
            " 193 204 221 214 169 197 196 200 199 191 185 183 208 159 218 215 179 216\n",
            " 203 186 206   7 192 172 202 236 274 195 222 239 213 229 188 201 240 164\n",
            " 226 220 182   8 194 248 289 286 234 302 254 189 235 319 277 284 360 249\n",
            " 237 305 263 271 272 209 301 278 251 322 232 207 228 283 344 282 212 330\n",
            " 309 225 217 357 280 257 300 273 250 288 339 292 242 262 308 285 198 241\n",
            " 264 267 335 293 310 219 224 187 230 223 269 258 210 233 246 255 259 227\n",
            " 244 245 231 270 275 243 296 334   4]\n",
            "\n",
            "\n",
            "[ 20  22  27  21  35  34  15  13  38  19  39  25  14   9  37  36  30  16\n",
            "  11  28  33  18  12   0  31  23  26  50  17  40  24  48  32   8  29  42\n",
            "  43  49  45  41  44  52  59  46  65  47  57  51   1  97  87  54  84  83\n",
            "  60  69 103  58  62  92  67  78  82  77  53  88  72  66  99  64  55  75\n",
            " 113  63  74  71  89  68  81  73  70  61  79  56  76  86   2 118 108 107\n",
            " 144 114  93 105 106 115 122  90  80  98  85 139 136 128  94 126  95   4\n",
            " 130 102  96 129 138 111 124 101 109 116 110 134  91 119 137 100   3 104\n",
            " 112   6 177 125 120 123 131 135 140 132 155 182 154 164 121 151 157 147\n",
            " 117 153 160 141 172 161   5 213 145 143 162 127 148 169 149 171 167 163\n",
            " 166 133 158 159 150 174 173 178 152   7 176 179 165 180 142 188 185 183\n",
            "  10 210 252 249 199 196 228 205 201 181 193 184 207 168 225 187 212 186\n",
            " 146 170 203 223 197 194 230 280 202 191 200 221 218 192 156 208 175 198\n",
            " 233 204 222 220 189 215 245 214 209 248 287 286 229 240 295 211 321 272\n",
            " 195 226 235 216 278 359 328 247 239 330 298 260 271 273 263 255 227 315\n",
            " 284 231 349 236 253 322 285 251 246 238 261 301 219 346 289 217 254 283\n",
            " 275 299 232 224 243 242 303 268 244 336 305 297 241 262 258 338 270 292\n",
            " 264 294 290 206 190 234 267 269 250 276 279 304 326]\n",
            "\n",
            "\n"
          ],
          "name": "stdout"
        }
      ]
    },
    {
      "cell_type": "markdown",
      "metadata": {
        "id": "BhHDjDjpiur-"
      },
      "source": [
        "### 1.8.3 Dropping Irrelevant Fields"
      ]
    },
    {
      "cell_type": "code",
      "metadata": {
        "colab": {
          "base_uri": "https://localhost:8080/",
          "height": 422
        },
        "id": "heRPEn1JJWIC",
        "outputId": "a5641b93-0fe1-494f-89f1-8c847208ab1b"
      },
      "source": [
        "# Dropping irrelevant columns\n",
        "autolib.drop(['date', 'n_daily_data_points','bluecars_returned_sum','utilib_14_taken_sum', 'utilib_14_returned_sum','utilib_returned_sum','slots_freed_sum', 'slots_taken_sum'], axis=1, inplace=True)\n",
        "autolib"
      ],
      "execution_count": 11,
      "outputs": [
        {
          "output_type": "execute_result",
          "data": {
            "text/html": [
              "<div>\n",
              "<style scoped>\n",
              "    .dataframe tbody tr th:only-of-type {\n",
              "        vertical-align: middle;\n",
              "    }\n",
              "\n",
              "    .dataframe tbody tr th {\n",
              "        vertical-align: top;\n",
              "    }\n",
              "\n",
              "    .dataframe thead th {\n",
              "        text-align: right;\n",
              "    }\n",
              "</style>\n",
              "<table border=\"1\" class=\"dataframe\">\n",
              "  <thead>\n",
              "    <tr style=\"text-align: right;\">\n",
              "      <th></th>\n",
              "      <th>postal_code</th>\n",
              "      <th>dayofweek</th>\n",
              "      <th>day_type</th>\n",
              "      <th>bluecars_taken_sum</th>\n",
              "      <th>utilib_taken_sum</th>\n",
              "    </tr>\n",
              "  </thead>\n",
              "  <tbody>\n",
              "    <tr>\n",
              "      <th>0</th>\n",
              "      <td>75001</td>\n",
              "      <td>0</td>\n",
              "      <td>weekday</td>\n",
              "      <td>110</td>\n",
              "      <td>3</td>\n",
              "    </tr>\n",
              "    <tr>\n",
              "      <th>1</th>\n",
              "      <td>75001</td>\n",
              "      <td>1</td>\n",
              "      <td>weekday</td>\n",
              "      <td>98</td>\n",
              "      <td>1</td>\n",
              "    </tr>\n",
              "    <tr>\n",
              "      <th>2</th>\n",
              "      <td>75001</td>\n",
              "      <td>2</td>\n",
              "      <td>weekday</td>\n",
              "      <td>138</td>\n",
              "      <td>0</td>\n",
              "    </tr>\n",
              "    <tr>\n",
              "      <th>3</th>\n",
              "      <td>75001</td>\n",
              "      <td>3</td>\n",
              "      <td>weekday</td>\n",
              "      <td>104</td>\n",
              "      <td>2</td>\n",
              "    </tr>\n",
              "    <tr>\n",
              "      <th>4</th>\n",
              "      <td>75001</td>\n",
              "      <td>4</td>\n",
              "      <td>weekday</td>\n",
              "      <td>114</td>\n",
              "      <td>3</td>\n",
              "    </tr>\n",
              "    <tr>\n",
              "      <th>...</th>\n",
              "      <td>...</td>\n",
              "      <td>...</td>\n",
              "      <td>...</td>\n",
              "      <td>...</td>\n",
              "      <td>...</td>\n",
              "    </tr>\n",
              "    <tr>\n",
              "      <th>16080</th>\n",
              "      <td>95880</td>\n",
              "      <td>4</td>\n",
              "      <td>weekday</td>\n",
              "      <td>15</td>\n",
              "      <td>0</td>\n",
              "    </tr>\n",
              "    <tr>\n",
              "      <th>16081</th>\n",
              "      <td>95880</td>\n",
              "      <td>5</td>\n",
              "      <td>weekend</td>\n",
              "      <td>19</td>\n",
              "      <td>0</td>\n",
              "    </tr>\n",
              "    <tr>\n",
              "      <th>16082</th>\n",
              "      <td>95880</td>\n",
              "      <td>6</td>\n",
              "      <td>weekend</td>\n",
              "      <td>33</td>\n",
              "      <td>1</td>\n",
              "    </tr>\n",
              "    <tr>\n",
              "      <th>16083</th>\n",
              "      <td>95880</td>\n",
              "      <td>0</td>\n",
              "      <td>weekday</td>\n",
              "      <td>11</td>\n",
              "      <td>3</td>\n",
              "    </tr>\n",
              "    <tr>\n",
              "      <th>16084</th>\n",
              "      <td>95880</td>\n",
              "      <td>1</td>\n",
              "      <td>weekday</td>\n",
              "      <td>2</td>\n",
              "      <td>2</td>\n",
              "    </tr>\n",
              "  </tbody>\n",
              "</table>\n",
              "<p>16085 rows × 5 columns</p>\n",
              "</div>"
            ],
            "text/plain": [
              "       postal_code  dayofweek day_type  bluecars_taken_sum  utilib_taken_sum\n",
              "0            75001          0  weekday                 110                 3\n",
              "1            75001          1  weekday                  98                 1\n",
              "2            75001          2  weekday                 138                 0\n",
              "3            75001          3  weekday                 104                 2\n",
              "4            75001          4  weekday                 114                 3\n",
              "...            ...        ...      ...                 ...               ...\n",
              "16080        95880          4  weekday                  15                 0\n",
              "16081        95880          5  weekend                  19                 0\n",
              "16082        95880          6  weekend                  33                 1\n",
              "16083        95880          0  weekday                  11                 3\n",
              "16084        95880          1  weekday                   2                 2\n",
              "\n",
              "[16085 rows x 5 columns]"
            ]
          },
          "metadata": {
            "tags": []
          },
          "execution_count": 11
        }
      ]
    },
    {
      "cell_type": "markdown",
      "metadata": {
        "id": "6lNHBr7eiyCD"
      },
      "source": [
        "### 1.8.4 Missing Values"
      ]
    },
    {
      "cell_type": "markdown",
      "metadata": {
        "id": "kpzUTpstjGtD"
      },
      "source": [
        "\n",
        "Identifying and dealing with missing values within the dataset."
      ]
    },
    {
      "cell_type": "code",
      "metadata": {
        "colab": {
          "base_uri": "https://localhost:8080/"
        },
        "id": "QHCeYj2vi7jT",
        "outputId": "b5958036-7a75-4ad6-a10d-1c38bb04b429"
      },
      "source": [
        "# Determining the number of items in each column and the data type of each column\n",
        "autolib.info()"
      ],
      "execution_count": 12,
      "outputs": [
        {
          "output_type": "stream",
          "text": [
            "<class 'pandas.core.frame.DataFrame'>\n",
            "RangeIndex: 16085 entries, 0 to 16084\n",
            "Data columns (total 5 columns):\n",
            " #   Column              Non-Null Count  Dtype \n",
            "---  ------              --------------  ----- \n",
            " 0   postal_code         16085 non-null  int64 \n",
            " 1   dayofweek           16085 non-null  int64 \n",
            " 2   day_type            16085 non-null  object\n",
            " 3   bluecars_taken_sum  16085 non-null  int64 \n",
            " 4   utilib_taken_sum    16085 non-null  int64 \n",
            "dtypes: int64(4), object(1)\n",
            "memory usage: 628.4+ KB\n"
          ],
          "name": "stdout"
        }
      ]
    },
    {
      "cell_type": "code",
      "metadata": {
        "colab": {
          "base_uri": "https://localhost:8080/"
        },
        "id": "4Iuo0vc0jCUo",
        "outputId": "de516208-c16c-419e-b992-49d74851877e"
      },
      "source": [
        "# Identifying Missing Data.\n",
        "autolib.isnull().sum()"
      ],
      "execution_count": 13,
      "outputs": [
        {
          "output_type": "execute_result",
          "data": {
            "text/plain": [
              "postal_code           0\n",
              "dayofweek             0\n",
              "day_type              0\n",
              "bluecars_taken_sum    0\n",
              "utilib_taken_sum      0\n",
              "dtype: int64"
            ]
          },
          "metadata": {
            "tags": []
          },
          "execution_count": 13
        }
      ]
    },
    {
      "cell_type": "markdown",
      "metadata": {
        "id": "qvDEg5YcjWNJ"
      },
      "source": [
        "There are no missing values within our dataset"
      ]
    },
    {
      "cell_type": "markdown",
      "metadata": {
        "id": "kniOywxuko8o"
      },
      "source": [
        "### 1.8.5 Anomalies"
      ]
    },
    {
      "cell_type": "code",
      "metadata": {
        "id": "ons_MNCVksVY"
      },
      "source": [
        "# Checking for Anomalies\n",
        "# There were no anomalies within our dataset."
      ],
      "execution_count": 14,
      "outputs": []
    },
    {
      "cell_type": "code",
      "metadata": {
        "colab": {
          "base_uri": "https://localhost:8080/",
          "height": 422
        },
        "id": "etCu4t3XK6Fp",
        "outputId": "bf759a1c-ea89-4432-8cfc-4f232803cea1"
      },
      "source": [
        "# Extracting day type data \n",
        "autolib_df = autolib[autolib.day_type == 'weekend']\n",
        "autolib_df"
      ],
      "execution_count": 15,
      "outputs": [
        {
          "output_type": "execute_result",
          "data": {
            "text/html": [
              "<div>\n",
              "<style scoped>\n",
              "    .dataframe tbody tr th:only-of-type {\n",
              "        vertical-align: middle;\n",
              "    }\n",
              "\n",
              "    .dataframe tbody tr th {\n",
              "        vertical-align: top;\n",
              "    }\n",
              "\n",
              "    .dataframe thead th {\n",
              "        text-align: right;\n",
              "    }\n",
              "</style>\n",
              "<table border=\"1\" class=\"dataframe\">\n",
              "  <thead>\n",
              "    <tr style=\"text-align: right;\">\n",
              "      <th></th>\n",
              "      <th>postal_code</th>\n",
              "      <th>dayofweek</th>\n",
              "      <th>day_type</th>\n",
              "      <th>bluecars_taken_sum</th>\n",
              "      <th>utilib_taken_sum</th>\n",
              "    </tr>\n",
              "  </thead>\n",
              "  <tbody>\n",
              "    <tr>\n",
              "      <th>5</th>\n",
              "      <td>75001</td>\n",
              "      <td>5</td>\n",
              "      <td>weekend</td>\n",
              "      <td>187</td>\n",
              "      <td>6</td>\n",
              "    </tr>\n",
              "    <tr>\n",
              "      <th>6</th>\n",
              "      <td>75001</td>\n",
              "      <td>6</td>\n",
              "      <td>weekend</td>\n",
              "      <td>180</td>\n",
              "      <td>2</td>\n",
              "    </tr>\n",
              "    <tr>\n",
              "      <th>12</th>\n",
              "      <td>75001</td>\n",
              "      <td>5</td>\n",
              "      <td>weekend</td>\n",
              "      <td>224</td>\n",
              "      <td>2</td>\n",
              "    </tr>\n",
              "    <tr>\n",
              "      <th>13</th>\n",
              "      <td>75001</td>\n",
              "      <td>6</td>\n",
              "      <td>weekend</td>\n",
              "      <td>193</td>\n",
              "      <td>2</td>\n",
              "    </tr>\n",
              "    <tr>\n",
              "      <th>19</th>\n",
              "      <td>75001</td>\n",
              "      <td>5</td>\n",
              "      <td>weekend</td>\n",
              "      <td>217</td>\n",
              "      <td>2</td>\n",
              "    </tr>\n",
              "    <tr>\n",
              "      <th>...</th>\n",
              "      <td>...</td>\n",
              "      <td>...</td>\n",
              "      <td>...</td>\n",
              "      <td>...</td>\n",
              "      <td>...</td>\n",
              "    </tr>\n",
              "    <tr>\n",
              "      <th>16068</th>\n",
              "      <td>95880</td>\n",
              "      <td>6</td>\n",
              "      <td>weekend</td>\n",
              "      <td>36</td>\n",
              "      <td>1</td>\n",
              "    </tr>\n",
              "    <tr>\n",
              "      <th>16074</th>\n",
              "      <td>95880</td>\n",
              "      <td>5</td>\n",
              "      <td>weekend</td>\n",
              "      <td>15</td>\n",
              "      <td>0</td>\n",
              "    </tr>\n",
              "    <tr>\n",
              "      <th>16075</th>\n",
              "      <td>95880</td>\n",
              "      <td>6</td>\n",
              "      <td>weekend</td>\n",
              "      <td>34</td>\n",
              "      <td>0</td>\n",
              "    </tr>\n",
              "    <tr>\n",
              "      <th>16081</th>\n",
              "      <td>95880</td>\n",
              "      <td>5</td>\n",
              "      <td>weekend</td>\n",
              "      <td>19</td>\n",
              "      <td>0</td>\n",
              "    </tr>\n",
              "    <tr>\n",
              "      <th>16082</th>\n",
              "      <td>95880</td>\n",
              "      <td>6</td>\n",
              "      <td>weekend</td>\n",
              "      <td>33</td>\n",
              "      <td>1</td>\n",
              "    </tr>\n",
              "  </tbody>\n",
              "</table>\n",
              "<p>4541 rows × 5 columns</p>\n",
              "</div>"
            ],
            "text/plain": [
              "       postal_code  dayofweek day_type  bluecars_taken_sum  utilib_taken_sum\n",
              "5            75001          5  weekend                 187                 6\n",
              "6            75001          6  weekend                 180                 2\n",
              "12           75001          5  weekend                 224                 2\n",
              "13           75001          6  weekend                 193                 2\n",
              "19           75001          5  weekend                 217                 2\n",
              "...            ...        ...      ...                 ...               ...\n",
              "16068        95880          6  weekend                  36                 1\n",
              "16074        95880          5  weekend                  15                 0\n",
              "16075        95880          6  weekend                  34                 0\n",
              "16081        95880          5  weekend                  19                 0\n",
              "16082        95880          6  weekend                  33                 1\n",
              "\n",
              "[4541 rows x 5 columns]"
            ]
          },
          "metadata": {
            "tags": []
          },
          "execution_count": 15
        }
      ]
    },
    {
      "cell_type": "markdown",
      "metadata": {
        "id": "Aw1HZfnxMGnA"
      },
      "source": [
        "I choose to work with the weekends because the selection just required one set of data, which can be either weekends or weekdays."
      ]
    },
    {
      "cell_type": "code",
      "metadata": {
        "colab": {
          "base_uri": "https://localhost:8080/"
        },
        "id": "uFdixC_1MZgi",
        "outputId": "9e902e6f-2609-4d84-9a67-d6a4bdbf01d8"
      },
      "source": [
        "autolib_df.nunique()"
      ],
      "execution_count": 16,
      "outputs": [
        {
          "output_type": "execute_result",
          "data": {
            "text/plain": [
              "postal_code           104\n",
              "dayofweek               2\n",
              "day_type                1\n",
              "bluecars_taken_sum    744\n",
              "utilib_taken_sum       47\n",
              "dtype: int64"
            ]
          },
          "metadata": {
            "tags": []
          },
          "execution_count": 16
        }
      ]
    },
    {
      "cell_type": "markdown",
      "metadata": {
        "id": "xWguP7juk22s"
      },
      "source": [
        "## 1.9 Exploratory Data Analysis"
      ]
    },
    {
      "cell_type": "markdown",
      "metadata": {
        "id": "oOKcAhzuk8Wg"
      },
      "source": [
        "### 1.9.1 Univariate Analysis"
      ]
    },
    {
      "cell_type": "markdown",
      "metadata": {
        "id": "TEq9GaQxlDjU"
      },
      "source": [
        "Provides summary statistics for each field in the raw data collection (or a single variable summary). Here's what we'll be looking at:\n",
        "\n",
        "1. Measure of central tendency.\n",
        "2. Measures of Dispersion/Variability/Spread.\n",
        "3. Visualisation of field by using pie charts and histogram and Frequency tables."
      ]
    },
    {
      "cell_type": "code",
      "metadata": {
        "colab": {
          "base_uri": "https://localhost:8080/",
          "height": 299
        },
        "id": "0Rry5PtXA-vI",
        "outputId": "fcba10ae-77da-4022-dd5d-1eb96fcb2c48"
      },
      "source": [
        "# Description of all the numerical data columns\n",
        "autolib_df[['bluecars_taken_sum','utilib_taken_sum']].describe()"
      ],
      "execution_count": 17,
      "outputs": [
        {
          "output_type": "execute_result",
          "data": {
            "text/html": [
              "<div>\n",
              "<style scoped>\n",
              "    .dataframe tbody tr th:only-of-type {\n",
              "        vertical-align: middle;\n",
              "    }\n",
              "\n",
              "    .dataframe tbody tr th {\n",
              "        vertical-align: top;\n",
              "    }\n",
              "\n",
              "    .dataframe thead th {\n",
              "        text-align: right;\n",
              "    }\n",
              "</style>\n",
              "<table border=\"1\" class=\"dataframe\">\n",
              "  <thead>\n",
              "    <tr style=\"text-align: right;\">\n",
              "      <th></th>\n",
              "      <th>bluecars_taken_sum</th>\n",
              "      <th>utilib_taken_sum</th>\n",
              "    </tr>\n",
              "  </thead>\n",
              "  <tbody>\n",
              "    <tr>\n",
              "      <th>count</th>\n",
              "      <td>4541.000000</td>\n",
              "      <td>4541.000000</td>\n",
              "    </tr>\n",
              "    <tr>\n",
              "      <th>mean</th>\n",
              "      <td>151.090068</td>\n",
              "      <td>4.393085</td>\n",
              "    </tr>\n",
              "    <tr>\n",
              "      <th>std</th>\n",
              "      <td>218.565642</td>\n",
              "      <td>6.747905</td>\n",
              "    </tr>\n",
              "    <tr>\n",
              "      <th>min</th>\n",
              "      <td>0.000000</td>\n",
              "      <td>0.000000</td>\n",
              "    </tr>\n",
              "    <tr>\n",
              "      <th>25%</th>\n",
              "      <td>25.000000</td>\n",
              "      <td>0.000000</td>\n",
              "    </tr>\n",
              "    <tr>\n",
              "      <th>50%</th>\n",
              "      <td>59.000000</td>\n",
              "      <td>2.000000</td>\n",
              "    </tr>\n",
              "    <tr>\n",
              "      <th>75%</th>\n",
              "      <td>156.000000</td>\n",
              "      <td>5.000000</td>\n",
              "    </tr>\n",
              "    <tr>\n",
              "      <th>max</th>\n",
              "      <td>1352.000000</td>\n",
              "      <td>54.000000</td>\n",
              "    </tr>\n",
              "  </tbody>\n",
              "</table>\n",
              "</div>"
            ],
            "text/plain": [
              "       bluecars_taken_sum  utilib_taken_sum\n",
              "count         4541.000000       4541.000000\n",
              "mean           151.090068          4.393085\n",
              "std            218.565642          6.747905\n",
              "min              0.000000          0.000000\n",
              "25%             25.000000          0.000000\n",
              "50%             59.000000          2.000000\n",
              "75%            156.000000          5.000000\n",
              "max           1352.000000         54.000000"
            ]
          },
          "metadata": {
            "tags": []
          },
          "execution_count": 17
        }
      ]
    },
    {
      "cell_type": "markdown",
      "metadata": {
        "id": "uW6h0ddqBU8f"
      },
      "source": [
        "Descriptive Analysis of the bluecars_taken_sum and the utilib_taken_sum column"
      ]
    },
    {
      "cell_type": "markdown",
      "metadata": {
        "id": "HBbBbpoqBdzA"
      },
      "source": [
        "#### Mean, Mode and Median"
      ]
    },
    {
      "cell_type": "code",
      "metadata": {
        "colab": {
          "base_uri": "https://localhost:8080/"
        },
        "id": "eU58pm3TBQxh",
        "outputId": "1c655883-4260-49fb-c11a-2b674fbe5670"
      },
      "source": [
        "# Mode\n",
        "autolib_df.bluecars_taken_sum.mode()"
      ],
      "execution_count": 18,
      "outputs": [
        {
          "output_type": "execute_result",
          "data": {
            "text/plain": [
              "0    14\n",
              "dtype: int64"
            ]
          },
          "metadata": {
            "tags": []
          },
          "execution_count": 18
        }
      ]
    },
    {
      "cell_type": "code",
      "metadata": {
        "colab": {
          "base_uri": "https://localhost:8080/"
        },
        "id": "SiX8tW8CBqfX",
        "outputId": "8d03ff5c-4231-45de-fbc0-9d8f588c01f7"
      },
      "source": [
        "# Mode\n",
        "autolib_df.utilib_taken_sum.mode()"
      ],
      "execution_count": 19,
      "outputs": [
        {
          "output_type": "execute_result",
          "data": {
            "text/plain": [
              "0    0\n",
              "dtype: int64"
            ]
          },
          "metadata": {
            "tags": []
          },
          "execution_count": 19
        }
      ]
    },
    {
      "cell_type": "code",
      "metadata": {
        "colab": {
          "base_uri": "https://localhost:8080/"
        },
        "id": "ItlNUSdvB3gA",
        "outputId": "339b67f5-a462-414c-88ab-41669750c938"
      },
      "source": [
        "# Median\n",
        "autolib_df.bluecars_taken_sum.median()"
      ],
      "execution_count": 20,
      "outputs": [
        {
          "output_type": "execute_result",
          "data": {
            "text/plain": [
              "59.0"
            ]
          },
          "metadata": {
            "tags": []
          },
          "execution_count": 20
        }
      ]
    },
    {
      "cell_type": "code",
      "metadata": {
        "colab": {
          "base_uri": "https://localhost:8080/"
        },
        "id": "F-LD1U26B4Ff",
        "outputId": "adb1c81c-3bba-435a-ff08-882cb7819a37"
      },
      "source": [
        "# Median\n",
        "autolib_df.utilib_taken_sum.median()"
      ],
      "execution_count": 21,
      "outputs": [
        {
          "output_type": "execute_result",
          "data": {
            "text/plain": [
              "2.0"
            ]
          },
          "metadata": {
            "tags": []
          },
          "execution_count": 21
        }
      ]
    },
    {
      "cell_type": "code",
      "metadata": {
        "colab": {
          "base_uri": "https://localhost:8080/"
        },
        "id": "oq1sWgthB9Ep",
        "outputId": "00ce4e3a-5694-490c-8cee-da9db55826c8"
      },
      "source": [
        "# Mean\n",
        "autolib_df.bluecars_taken_sum.mean()"
      ],
      "execution_count": 22,
      "outputs": [
        {
          "output_type": "execute_result",
          "data": {
            "text/plain": [
              "151.09006826690157"
            ]
          },
          "metadata": {
            "tags": []
          },
          "execution_count": 22
        }
      ]
    },
    {
      "cell_type": "code",
      "metadata": {
        "colab": {
          "base_uri": "https://localhost:8080/"
        },
        "id": "CMUEP9nCB_g4",
        "outputId": "7d4a1471-5199-471d-c6ce-5a377d5d808b"
      },
      "source": [
        "# Mean\n",
        "autolib_df.utilib_taken_sum.mean()"
      ],
      "execution_count": 23,
      "outputs": [
        {
          "output_type": "execute_result",
          "data": {
            "text/plain": [
              "4.393085223519049"
            ]
          },
          "metadata": {
            "tags": []
          },
          "execution_count": 23
        }
      ]
    },
    {
      "cell_type": "markdown",
      "metadata": {
        "id": "eHnDfAmOCXCX"
      },
      "source": [
        "#### Range and Interquartile Range"
      ]
    },
    {
      "cell_type": "code",
      "metadata": {
        "colab": {
          "base_uri": "https://localhost:8080/"
        },
        "id": "ux8Gc1-KCdgb",
        "outputId": "cafa4050-e497-4965-ae5a-d7b77a8410ea"
      },
      "source": [
        "# Find the range between the maximum and minimum value\n",
        "\n",
        "# Blue cars\n",
        "maximum_value = autolib_df.bluecars_taken_sum.max()\n",
        "minimum_value = autolib_df.bluecars_taken_sum.min()\n",
        "range = maximum_value - minimum_value\n",
        "\n",
        "# Utilib\n",
        "maximum_value = autolib_df.utilib_taken_sum.max()\n",
        "minimum_value = autolib_df.utilib_taken_sum.min()\n",
        "range1 = maximum_value - minimum_value\n",
        "\n",
        "print('Blue car:',range)\n",
        "print('Utilib car:',range1)"
      ],
      "execution_count": 24,
      "outputs": [
        {
          "output_type": "stream",
          "text": [
            "Blue car: 1352\n",
            "Utilib car: 54\n"
          ],
          "name": "stdout"
        }
      ]
    },
    {
      "cell_type": "code",
      "metadata": {
        "colab": {
          "base_uri": "https://localhost:8080/"
        },
        "id": "v8OhtPWcCscA",
        "outputId": "732814e3-c8f4-470f-e47a-81f8e35fe0a9"
      },
      "source": [
        "#Find the quartiles of the bluecars_taken_sum column\n",
        "\n",
        "autolib_df.bluecars_taken_sum.quantile([0.25, 0.5, 0.75])"
      ],
      "execution_count": 25,
      "outputs": [
        {
          "output_type": "execute_result",
          "data": {
            "text/plain": [
              "0.25     25.0\n",
              "0.50     59.0\n",
              "0.75    156.0\n",
              "Name: bluecars_taken_sum, dtype: float64"
            ]
          },
          "metadata": {
            "tags": []
          },
          "execution_count": 25
        }
      ]
    },
    {
      "cell_type": "code",
      "metadata": {
        "colab": {
          "base_uri": "https://localhost:8080/"
        },
        "id": "E29JONoCCxi3",
        "outputId": "ee22b389-0b80-4996-a3f0-bfe7f29c3bbd"
      },
      "source": [
        "#Find the quartiles of the utilib taken sum column\n",
        "\n",
        "autolib_df.utilib_taken_sum.quantile([0.25, 0.5, 0.75])"
      ],
      "execution_count": 26,
      "outputs": [
        {
          "output_type": "execute_result",
          "data": {
            "text/plain": [
              "0.25    0.0\n",
              "0.50    2.0\n",
              "0.75    5.0\n",
              "Name: utilib_taken_sum, dtype: float64"
            ]
          },
          "metadata": {
            "tags": []
          },
          "execution_count": 26
        }
      ]
    },
    {
      "cell_type": "markdown",
      "metadata": {
        "id": "-4VH3X_6DjPk"
      },
      "source": [
        "#### Standard Deviation, Variance, Kurtosis and Skewness"
      ]
    },
    {
      "cell_type": "code",
      "metadata": {
        "colab": {
          "base_uri": "https://localhost:8080/"
        },
        "id": "2W292-PHDqV_",
        "outputId": "6bd11929-df80-4c91-abbc-eac7050ff834"
      },
      "source": [
        "# Autolib blue cars taken sum column\n",
        "\n",
        "print(\"Standard Deviation: \",autolib_df.bluecars_taken_sum.std())\n",
        "print(\"Variance: \",autolib_df.bluecars_taken_sum.var())\n",
        "print(\"Kurtosis: \",autolib_df.bluecars_taken_sum.kurt())\n",
        "print(\"Skewness: \",autolib_df.bluecars_taken_sum.skew())"
      ],
      "execution_count": 27,
      "outputs": [
        {
          "output_type": "stream",
          "text": [
            "Standard Deviation:  218.5656415891513\n",
            "Variance:  47770.93968327735\n",
            "Kurtosis:  5.295039714140337\n",
            "Skewness:  2.3007208190452824\n"
          ],
          "name": "stdout"
        }
      ]
    },
    {
      "cell_type": "code",
      "metadata": {
        "colab": {
          "base_uri": "https://localhost:8080/"
        },
        "id": "IKYL8kJzDz2A",
        "outputId": "57b767a7-739b-4977-80a2-89a993474918"
      },
      "source": [
        "# Autolib utilib cars taken sum column\n",
        "\n",
        "print(\"Standard Deviation: \",autolib_df.utilib_taken_sum.std())\n",
        "print(\"Variance: \",autolib_df.utilib_taken_sum.var())\n",
        "print(\"Kurtosis: \",autolib_df.utilib_taken_sum.kurt())\n",
        "print(\"Skewness: \",autolib_df.utilib_taken_sum.skew())"
      ],
      "execution_count": 28,
      "outputs": [
        {
          "output_type": "stream",
          "text": [
            "Standard Deviation:  6.747904600134372\n",
            "Variance:  45.53421649251461\n",
            "Kurtosis:  6.702680453433318\n",
            "Skewness:  2.450482888938684\n"
          ],
          "name": "stdout"
        }
      ]
    },
    {
      "cell_type": "markdown",
      "metadata": {
        "id": "9YV2ZyPuNCtX"
      },
      "source": [
        "1. The Kurtosis is > 0 meaning it is leptokurtic, the tail in this distribution is heavy.\n",
        "There are outliers present in our dataset.\n",
        "2. Because the skewness is greater than zero, the dataset is positively skewed."
      ]
    },
    {
      "cell_type": "markdown",
      "metadata": {
        "id": "xN4BzP1BOMw-"
      },
      "source": [
        "#### The blue-cars-taken-sum and utilib car taken sum column visualizations"
      ]
    },
    {
      "cell_type": "code",
      "metadata": {
        "colab": {
          "base_uri": "https://localhost:8080/",
          "height": 355
        },
        "id": "y1zl0IdiOgrF",
        "outputId": "3e22c1a4-9770-465f-cd01-e37f85571252"
      },
      "source": [
        "# Boxplot\n",
        "sns.boxplot(autolib_df['bluecars_taken_sum'],showmeans = True)"
      ],
      "execution_count": 29,
      "outputs": [
        {
          "output_type": "stream",
          "text": [
            "/usr/local/lib/python3.7/dist-packages/seaborn/_decorators.py:43: FutureWarning: Pass the following variable as a keyword arg: x. From version 0.12, the only valid positional argument will be `data`, and passing other arguments without an explicit keyword will result in an error or misinterpretation.\n",
            "  FutureWarning\n"
          ],
          "name": "stderr"
        },
        {
          "output_type": "execute_result",
          "data": {
            "text/plain": [
              "<matplotlib.axes._subplots.AxesSubplot at 0x7f47a7e59810>"
            ]
          },
          "metadata": {
            "tags": []
          },
          "execution_count": 29
        },
        {
          "output_type": "display_data",
          "data": {
            "image/png": "[encoded data removed]",
            "text/plain": [
              "<Figure size 432x288 with 1 Axes>"
            ]
          },
          "metadata": {
            "tags": [],
            "needs_background": "light"
          }
        }
      ]
    },
    {
      "cell_type": "markdown",
      "metadata": {
        "id": "Wvrleg0wOspk"
      },
      "source": [
        "Beyond the threshold, there appear to be outliers. Let's see whether we can prove the presence of outliers."
      ]
    },
    {
      "cell_type": "code",
      "metadata": {
        "colab": {
          "base_uri": "https://localhost:8080/"
        },
        "id": "68k9X7tNPNL1",
        "outputId": "44b028d6-067b-46f3-fef4-227bdd9fa098"
      },
      "source": [
        "# Checking for outliers in the bluecars taken column\n",
        "\n",
        "Q1 = autolib_df.bluecars_taken_sum.quantile(0.25)\n",
        "Q3 = autolib_df.bluecars_taken_sum.quantile(0.75)\n",
        "\n",
        "IQR = Q3 - Q1\n",
        "\n",
        "outliers = ((autolib_df.bluecars_taken_sum < Q1 - 1.5 * IQR) | (autolib_df.bluecars_taken_sum > Q3 + 1.5 * IQR))\n",
        "outliers.value_counts()"
      ],
      "execution_count": 30,
      "outputs": [
        {
          "output_type": "execute_result",
          "data": {
            "text/plain": [
              "False    3888\n",
              "True      653\n",
              "Name: bluecars_taken_sum, dtype: int64"
            ]
          },
          "metadata": {
            "tags": []
          },
          "execution_count": 30
        }
      ]
    },
    {
      "cell_type": "markdown",
      "metadata": {
        "id": "vB4idvzOPWSV"
      },
      "source": [
        "\n",
        "There are 653 outliers beyond the range threshold. However, removing the outliers would result in an inconclusive result because they could still be viable submissions."
      ]
    },
    {
      "cell_type": "code",
      "metadata": {
        "colab": {
          "base_uri": "https://localhost:8080/",
          "height": 371
        },
        "id": "4kRCt1SlPVwO",
        "outputId": "a291f68f-52cd-4ab6-f0eb-19c51679499d"
      },
      "source": [
        "# Plotting a histogram showing distribution of the BlueCars taken column\n",
        "\n",
        "sns.distplot(autolib_df['bluecars_taken_sum'], bins=10)\n",
        "plt.title('distribution of blue cars taken')"
      ],
      "execution_count": 31,
      "outputs": [
        {
          "output_type": "stream",
          "text": [
            "/usr/local/lib/python3.7/dist-packages/seaborn/distributions.py:2557: FutureWarning: `distplot` is a deprecated function and will be removed in a future version. Please adapt your code to use either `displot` (a figure-level function with similar flexibility) or `histplot` (an axes-level function for histograms).\n",
            "  warnings.warn(msg, FutureWarning)\n"
          ],
          "name": "stderr"
        },
        {
          "output_type": "execute_result",
          "data": {
            "text/plain": [
              "Text(0.5, 1.0, 'distribution of blue cars taken')"
            ]
          },
          "metadata": {
            "tags": []
          },
          "execution_count": 31
        },
        {
          "output_type": "display_data",
          "data": {
            "image/png": "[encoded data removed]",
            "text/plain": [
              "<Figure size 432x288 with 1 Axes>"
            ]
          },
          "metadata": {
            "tags": [],
            "needs_background": "light"
          }
        }
      ]
    },
    {
      "cell_type": "code",
      "metadata": {
        "colab": {
          "base_uri": "https://localhost:8080/",
          "height": 355
        },
        "id": "I-t7awV5QVm6",
        "outputId": "09e63375-e902-46b1-f9d7-e8c4c5e98807"
      },
      "source": [
        "# Boxplot Utilib taken \n",
        "sns.boxplot(autolib_df['utilib_taken_sum'],showmeans = True)"
      ],
      "execution_count": 32,
      "outputs": [
        {
          "output_type": "stream",
          "text": [
            "/usr/local/lib/python3.7/dist-packages/seaborn/_decorators.py:43: FutureWarning: Pass the following variable as a keyword arg: x. From version 0.12, the only valid positional argument will be `data`, and passing other arguments without an explicit keyword will result in an error or misinterpretation.\n",
            "  FutureWarning\n"
          ],
          "name": "stderr"
        },
        {
          "output_type": "execute_result",
          "data": {
            "text/plain": [
              "<matplotlib.axes._subplots.AxesSubplot at 0x7f47a4e3eb10>"
            ]
          },
          "metadata": {
            "tags": []
          },
          "execution_count": 32
        },
        {
          "output_type": "display_data",
          "data": {
            "image/png": "[encoded data removed]",
            "text/plain": [
              "<Figure size 432x288 with 1 Axes>"
            ]
          },
          "metadata": {
            "tags": [],
            "needs_background": "light"
          }
        }
      ]
    },
    {
      "cell_type": "markdown",
      "metadata": {
        "id": "tnpUCHsLQc6j"
      },
      "source": [
        "Beyond the threshold, there appear to be outliers. Let's see whether we can prove the presence of outliers."
      ]
    },
    {
      "cell_type": "code",
      "metadata": {
        "colab": {
          "base_uri": "https://localhost:8080/"
        },
        "id": "W57pB5NnP4AO",
        "outputId": "cdad3480-e98a-40c3-8dd0-a4221b47a33c"
      },
      "source": [
        "# Checking for outliers in the utilib cars taken column\n",
        "\n",
        "Q1 = autolib_df.utilib_taken_sum.quantile(0.25)\n",
        "Q3 = autolib_df.utilib_taken_sum.quantile(0.75)\n",
        "\n",
        "IQR = Q3 - Q1\n",
        "\n",
        "outliers = ((autolib_df.utilib_taken_sum < Q1 - 1.5 * IQR) | (autolib_df.utilib_taken_sum > Q3 + 1.5 * IQR))\n",
        "outliers.value_counts()"
      ],
      "execution_count": 33,
      "outputs": [
        {
          "output_type": "execute_result",
          "data": {
            "text/plain": [
              "False    4050\n",
              "True      491\n",
              "Name: utilib_taken_sum, dtype: int64"
            ]
          },
          "metadata": {
            "tags": []
          },
          "execution_count": 33
        }
      ]
    },
    {
      "cell_type": "markdown",
      "metadata": {
        "id": "z4qpfVamQDGk"
      },
      "source": [
        "There are 491 outliers beyond the range threshold. However it would result in an inconclusive outcome if the outliers are actually removed since they can be viable entries."
      ]
    },
    {
      "cell_type": "code",
      "metadata": {
        "colab": {
          "base_uri": "https://localhost:8080/",
          "height": 371
        },
        "id": "ST5AlaQcPrPZ",
        "outputId": "54053d0c-fb40-4dfd-bb75-d0c94d725394"
      },
      "source": [
        "# Plotting a histogram showing distribution of the utilib taken column\n",
        "\n",
        "sns.distplot(autolib_df['utilib_taken_sum'], bins=10)\n",
        "plt.title('distribution of blue cars taken')"
      ],
      "execution_count": 34,
      "outputs": [
        {
          "output_type": "stream",
          "text": [
            "/usr/local/lib/python3.7/dist-packages/seaborn/distributions.py:2557: FutureWarning: `distplot` is a deprecated function and will be removed in a future version. Please adapt your code to use either `displot` (a figure-level function with similar flexibility) or `histplot` (an axes-level function for histograms).\n",
            "  warnings.warn(msg, FutureWarning)\n"
          ],
          "name": "stderr"
        },
        {
          "output_type": "execute_result",
          "data": {
            "text/plain": [
              "Text(0.5, 1.0, 'distribution of blue cars taken')"
            ]
          },
          "metadata": {
            "tags": []
          },
          "execution_count": 34
        },
        {
          "output_type": "display_data",
          "data": {
            "image/png": "[encoded data removed]",
            "text/plain": [
              "<Figure size 432x288 with 1 Axes>"
            ]
          },
          "metadata": {
            "tags": [],
            "needs_background": "light"
          }
        }
      ]
    },
    {
      "cell_type": "code",
      "metadata": {
        "colab": {
          "base_uri": "https://localhost:8080/",
          "height": 286
        },
        "id": "3-qFHzEnRa25",
        "outputId": "0c3ed217-0238-4254-c642-5e49b3daecac"
      },
      "source": [
        "# Bar plot blue car taken column\n",
        "autolib_df['bluecars_taken_sum'].value_counts().head().plot.bar()"
      ],
      "execution_count": 35,
      "outputs": [
        {
          "output_type": "execute_result",
          "data": {
            "text/plain": [
              "<matplotlib.axes._subplots.AxesSubplot at 0x7f47a4e32550>"
            ]
          },
          "metadata": {
            "tags": []
          },
          "execution_count": 35
        },
        {
          "output_type": "display_data",
          "data": {
            "image/png": "[encoded data removed]",
            "text/plain": [
              "<Figure size 432x288 with 1 Axes>"
            ]
          },
          "metadata": {
            "tags": [],
            "needs_background": "light"
          }
        }
      ]
    },
    {
      "cell_type": "code",
      "metadata": {
        "colab": {
          "base_uri": "https://localhost:8080/",
          "height": 282
        },
        "id": "SNQ9rScxRlPw",
        "outputId": "062f7318-44b6-44d1-a6c0-3011909fd533"
      },
      "source": [
        "# Bar plot utilib car taken column\n",
        "autolib_df['utilib_taken_sum'].value_counts().head().plot.bar()"
      ],
      "execution_count": 36,
      "outputs": [
        {
          "output_type": "execute_result",
          "data": {
            "text/plain": [
              "<matplotlib.axes._subplots.AxesSubplot at 0x7f47a4c66910>"
            ]
          },
          "metadata": {
            "tags": []
          },
          "execution_count": 36
        },
        {
          "output_type": "display_data",
          "data": {
            "image/png": "[encoded data removed]",
            "text/plain": [
              "<Figure size 432x288 with 1 Axes>"
            ]
          },
          "metadata": {
            "tags": [],
            "needs_background": "light"
          }
        }
      ]
    },
    {
      "cell_type": "markdown",
      "metadata": {
        "id": "MudHmlA7QiwI"
      },
      "source": [
        "**Recommendations based on the Univariate Analysis**\n",
        "\n",
        "\n",
        "*   The Kurtosis of the numerical data columns indicates that the data distribution is heavy-tailed and not normally distributed in most circumstances.\n",
        "\n",
        "*   Outliers are valid entries that should not be eliminated.\n",
        "\n",
        "\n",
        "\n"
      ]
    },
    {
      "cell_type": "markdown",
      "metadata": {
        "id": "dJGHQHBJRb4X"
      },
      "source": [
        "### 1.9.2 Bivariate analysis"
      ]
    },
    {
      "cell_type": "markdown",
      "metadata": {
        "id": "Y1WIPkdsRe4-"
      },
      "source": [
        "#### Numerical & Numerical"
      ]
    },
    {
      "cell_type": "code",
      "metadata": {
        "colab": {
          "base_uri": "https://localhost:8080/",
          "height": 410
        },
        "id": "XyMh_OceRk2o",
        "outputId": "f9b89381-e2ad-4d42-eb82-f456d598f869"
      },
      "source": [
        "# Determine correlation between numeric features\n",
        "plt.figure(figsize=(12,10))\n",
        "sns.pairplot(autolib_df[['bluecars_taken_sum','utilib_taken_sum']])\n",
        "plt.title('bluecars_taken vs utilib_taken_sum')"
      ],
      "execution_count": 37,
      "outputs": [
        {
          "output_type": "execute_result",
          "data": {
            "text/plain": [
              "Text(0.5, 1.0, 'bluecars_taken vs utilib_taken_sum')"
            ]
          },
          "metadata": {
            "tags": []
          },
          "execution_count": 37
        },
        {
          "output_type": "display_data",
          "data": {
            "text/plain": [
              "<Figure size 864x720 with 0 Axes>"
            ]
          },
          "metadata": {
            "tags": []
          }
        },
        {
          "output_type": "display_data",
          "data": {
            "image/png": "[encoded data removed]",
            "text/plain": [
              "<Figure size 360x360 with 6 Axes>"
            ]
          },
          "metadata": {
            "tags": [],
            "needs_background": "light"
          }
        }
      ]
    },
    {
      "cell_type": "markdown",
      "metadata": {
        "id": "MAVTwHZlSi8O"
      },
      "source": [
        "Positive correlation is observed in the cars taken vs. utilib cars taken columns."
      ]
    },
    {
      "cell_type": "markdown",
      "metadata": {
        "id": "iTb6YwlsSsOP"
      },
      "source": [
        "\n",
        "Correlation "
      ]
    },
    {
      "cell_type": "code",
      "metadata": {
        "colab": {
          "base_uri": "https://localhost:8080/",
          "height": 378
        },
        "id": "ndYum-RESvWl",
        "outputId": "43c582c3-b217-4ad0-b282-45c2ea88176f"
      },
      "source": [
        "coeff = autolib_df.corr()\n",
        "\n",
        "plt.figure()\n",
        "sns.heatmap(coeff, xticklabels=coeff.columns, yticklabels=coeff.columns)\n",
        "plt.title('Heatmap showing Correlation of the Numerical Columns', color = 'magenta', fontsize = 20)\n",
        "plt.show()"
      ],
      "execution_count": 38,
      "outputs": [
        {
          "output_type": "display_data",
          "data": {
            "image/png": "[encoded data removed]",
            "text/plain": [
              "<Figure size 432x288 with 2 Axes>"
            ]
          },
          "metadata": {
            "tags": [],
            "needs_background": "light"
          }
        }
      ]
    },
    {
      "cell_type": "markdown",
      "metadata": {
        "id": "bTuSSH3kqvIx"
      },
      "source": [
        "## 2.0 Hypothesis Testing"
      ]
    },
    {
      "cell_type": "markdown",
      "metadata": {
        "id": "QS3gUH-Td8nC"
      },
      "source": [
        "**What is our hypothesis?**\n",
        "\n",
        "Hypothesis testing (using a z-score).\n",
        "\n",
        "A sample of 1000 values from each postal area has been used. A 95% confidence level has also been used to test the hypothesis.\n",
        "\n",
        "Null Hypothesis: The mean of Blue Cars taken on weekends is equal to the mean of Utilib Cars taken on weekends\n",
        "\n",
        "μ1=μ2\n",
        "\n",
        "Alternative Hypothesis: The mean of Blue Cars taken on weekends is not equal to the mean of Utilib Cars taken on weekends\n",
        "\n",
        "μ1≠μ2"
      ]
    },
    {
      "cell_type": "code",
      "metadata": {
        "colab": {
          "base_uri": "https://localhost:8080/",
          "height": 533
        },
        "id": "pmtCqhT3U0mx",
        "outputId": "7d60b310-5679-4a63-d4ae-50073cdb6e13"
      },
      "source": [
        "# Dropping day type column\n",
        "autolib_df.drop(['day_type'], axis=1, inplace=True)\n",
        "autolib_df"
      ],
      "execution_count": 39,
      "outputs": [
        {
          "output_type": "stream",
          "text": [
            "/usr/local/lib/python3.7/dist-packages/pandas/core/frame.py:4174: SettingWithCopyWarning: \n",
            "A value is trying to be set on a copy of a slice from a DataFrame\n",
            "\n",
            "See the caveats in the documentation: https://pandas.pydata.org/pandas-docs/stable/user_guide/indexing.html#returning-a-view-versus-a-copy\n",
            "  errors=errors,\n"
          ],
          "name": "stderr"
        },
        {
          "output_type": "execute_result",
          "data": {
            "text/html": [
              "<div>\n",
              "<style scoped>\n",
              "    .dataframe tbody tr th:only-of-type {\n",
              "        vertical-align: middle;\n",
              "    }\n",
              "\n",
              "    .dataframe tbody tr th {\n",
              "        vertical-align: top;\n",
              "    }\n",
              "\n",
              "    .dataframe thead th {\n",
              "        text-align: right;\n",
              "    }\n",
              "</style>\n",
              "<table border=\"1\" class=\"dataframe\">\n",
              "  <thead>\n",
              "    <tr style=\"text-align: right;\">\n",
              "      <th></th>\n",
              "      <th>postal_code</th>\n",
              "      <th>dayofweek</th>\n",
              "      <th>bluecars_taken_sum</th>\n",
              "      <th>utilib_taken_sum</th>\n",
              "    </tr>\n",
              "  </thead>\n",
              "  <tbody>\n",
              "    <tr>\n",
              "      <th>5</th>\n",
              "      <td>75001</td>\n",
              "      <td>5</td>\n",
              "      <td>187</td>\n",
              "      <td>6</td>\n",
              "    </tr>\n",
              "    <tr>\n",
              "      <th>6</th>\n",
              "      <td>75001</td>\n",
              "      <td>6</td>\n",
              "      <td>180</td>\n",
              "      <td>2</td>\n",
              "    </tr>\n",
              "    <tr>\n",
              "      <th>12</th>\n",
              "      <td>75001</td>\n",
              "      <td>5</td>\n",
              "      <td>224</td>\n",
              "      <td>2</td>\n",
              "    </tr>\n",
              "    <tr>\n",
              "      <th>13</th>\n",
              "      <td>75001</td>\n",
              "      <td>6</td>\n",
              "      <td>193</td>\n",
              "      <td>2</td>\n",
              "    </tr>\n",
              "    <tr>\n",
              "      <th>19</th>\n",
              "      <td>75001</td>\n",
              "      <td>5</td>\n",
              "      <td>217</td>\n",
              "      <td>2</td>\n",
              "    </tr>\n",
              "    <tr>\n",
              "      <th>...</th>\n",
              "      <td>...</td>\n",
              "      <td>...</td>\n",
              "      <td>...</td>\n",
              "      <td>...</td>\n",
              "    </tr>\n",
              "    <tr>\n",
              "      <th>16068</th>\n",
              "      <td>95880</td>\n",
              "      <td>6</td>\n",
              "      <td>36</td>\n",
              "      <td>1</td>\n",
              "    </tr>\n",
              "    <tr>\n",
              "      <th>16074</th>\n",
              "      <td>95880</td>\n",
              "      <td>5</td>\n",
              "      <td>15</td>\n",
              "      <td>0</td>\n",
              "    </tr>\n",
              "    <tr>\n",
              "      <th>16075</th>\n",
              "      <td>95880</td>\n",
              "      <td>6</td>\n",
              "      <td>34</td>\n",
              "      <td>0</td>\n",
              "    </tr>\n",
              "    <tr>\n",
              "      <th>16081</th>\n",
              "      <td>95880</td>\n",
              "      <td>5</td>\n",
              "      <td>19</td>\n",
              "      <td>0</td>\n",
              "    </tr>\n",
              "    <tr>\n",
              "      <th>16082</th>\n",
              "      <td>95880</td>\n",
              "      <td>6</td>\n",
              "      <td>33</td>\n",
              "      <td>1</td>\n",
              "    </tr>\n",
              "  </tbody>\n",
              "</table>\n",
              "<p>4541 rows × 4 columns</p>\n",
              "</div>"
            ],
            "text/plain": [
              "       postal_code  dayofweek  bluecars_taken_sum  utilib_taken_sum\n",
              "5            75001          5                 187                 6\n",
              "6            75001          6                 180                 2\n",
              "12           75001          5                 224                 2\n",
              "13           75001          6                 193                 2\n",
              "19           75001          5                 217                 2\n",
              "...            ...        ...                 ...               ...\n",
              "16068        95880          6                  36                 1\n",
              "16074        95880          5                  15                 0\n",
              "16075        95880          6                  34                 0\n",
              "16081        95880          5                  19                 0\n",
              "16082        95880          6                  33                 1\n",
              "\n",
              "[4541 rows x 4 columns]"
            ]
          },
          "metadata": {
            "tags": []
          },
          "execution_count": 39
        }
      ]
    },
    {
      "cell_type": "code",
      "metadata": {
        "id": "kV0ZszP4Udzg"
      },
      "source": [
        "# Normality Test\n",
        "from scipy.stats import shapiro\n",
        "\n",
        "def shapiro_test(autolib_df, col_list):\n",
        "    for x in col_list:\n",
        "        print(x)\n",
        "        data = autolib_df[x]\n",
        "        stat, p = shapiro(data)\n",
        "        print('Statistics=%.3f, p=%.3f' % (stat, p))\n",
        "        # interpret\n",
        "        alpha = 0.05\n",
        "        if p > alpha:\n",
        "            print('Sample looks Gaussian (fail to reject H0)')\n",
        "        else:\n",
        "            print('Sample does not look Gaussian (reject H0)')\n",
        "        print('\\n')"
      ],
      "execution_count": 40,
      "outputs": []
    },
    {
      "cell_type": "code",
      "metadata": {
        "colab": {
          "base_uri": "https://localhost:8080/"
        },
        "id": "V2heNsphUqC1",
        "outputId": "ec317b03-a88a-4279-9f90-1d0ba76e8a6c"
      },
      "source": [
        "# shapiro Wilk's test\n",
        "shapiro_test(autolib_df, list(autolib_df.columns))"
      ],
      "execution_count": 41,
      "outputs": [
        {
          "output_type": "stream",
          "text": [
            "postal_code\n",
            "Statistics=0.642, p=0.000\n",
            "Sample does not look Gaussian (reject H0)\n",
            "\n",
            "\n",
            "dayofweek\n",
            "Statistics=0.637, p=0.000\n",
            "Sample does not look Gaussian (reject H0)\n",
            "\n",
            "\n",
            "bluecars_taken_sum\n",
            "Statistics=0.667, p=0.000\n",
            "Sample does not look Gaussian (reject H0)\n",
            "\n",
            "\n",
            "utilib_taken_sum\n",
            "Statistics=0.673, p=0.000\n",
            "Sample does not look Gaussian (reject H0)\n",
            "\n",
            "\n"
          ],
          "name": "stdout"
        }
      ]
    },
    {
      "cell_type": "markdown",
      "metadata": {
        "id": "mSE7AvjyeVvL"
      },
      "source": [
        "\n",
        "#### **Sampling**\n",
        "\n",
        "I chose to use Stratified Random Sampling.\n",
        "Why? \n",
        "\n",
        "Random samples are the best method of selecting your sample from the population of interest. The advantages are:\n",
        "- Your sample represents the target population and eliminates sampling bias.\n",
        "\n",
        "- A stratified sample can provide greater precision than a simple random sample of the same size.\n",
        "- Because it provides greater precision, a stratified sample often requires a smaller sample."
      ]
    },
    {
      "cell_type": "code",
      "metadata": {
        "colab": {
          "base_uri": "https://localhost:8080/",
          "height": 362
        },
        "id": "gq5NLE4NeXMa",
        "outputId": "676bb5fa-9aeb-4e11-984f-6ab883d45ca8"
      },
      "source": [
        "# Stratified Sampling\n",
        "autolib_sample= autolib_df.groupby('dayofweek', group_keys=False).apply(lambda grouped_subset : grouped_subset.sample(frac=0.1))\n",
        "autolib_sample.head(10)"
      ],
      "execution_count": 42,
      "outputs": [
        {
          "output_type": "execute_result",
          "data": {
            "text/html": [
              "<div>\n",
              "<style scoped>\n",
              "    .dataframe tbody tr th:only-of-type {\n",
              "        vertical-align: middle;\n",
              "    }\n",
              "\n",
              "    .dataframe tbody tr th {\n",
              "        vertical-align: top;\n",
              "    }\n",
              "\n",
              "    .dataframe thead th {\n",
              "        text-align: right;\n",
              "    }\n",
              "</style>\n",
              "<table border=\"1\" class=\"dataframe\">\n",
              "  <thead>\n",
              "    <tr style=\"text-align: right;\">\n",
              "      <th></th>\n",
              "      <th>postal_code</th>\n",
              "      <th>dayofweek</th>\n",
              "      <th>bluecars_taken_sum</th>\n",
              "      <th>utilib_taken_sum</th>\n",
              "    </tr>\n",
              "  </thead>\n",
              "  <tbody>\n",
              "    <tr>\n",
              "      <th>10000</th>\n",
              "      <td>93100</td>\n",
              "      <td>5</td>\n",
              "      <td>245</td>\n",
              "      <td>3</td>\n",
              "    </tr>\n",
              "    <tr>\n",
              "      <th>1579</th>\n",
              "      <td>75011</td>\n",
              "      <td>5</td>\n",
              "      <td>714</td>\n",
              "      <td>16</td>\n",
              "    </tr>\n",
              "    <tr>\n",
              "      <th>10393</th>\n",
              "      <td>93130</td>\n",
              "      <td>5</td>\n",
              "      <td>31</td>\n",
              "      <td>4</td>\n",
              "    </tr>\n",
              "    <tr>\n",
              "      <th>6316</th>\n",
              "      <td>92220</td>\n",
              "      <td>5</td>\n",
              "      <td>74</td>\n",
              "      <td>3</td>\n",
              "    </tr>\n",
              "    <tr>\n",
              "      <th>1088</th>\n",
              "      <td>75007</td>\n",
              "      <td>5</td>\n",
              "      <td>387</td>\n",
              "      <td>6</td>\n",
              "    </tr>\n",
              "    <tr>\n",
              "      <th>15955</th>\n",
              "      <td>95880</td>\n",
              "      <td>5</td>\n",
              "      <td>25</td>\n",
              "      <td>0</td>\n",
              "    </tr>\n",
              "    <tr>\n",
              "      <th>1223</th>\n",
              "      <td>75008</td>\n",
              "      <td>5</td>\n",
              "      <td>449</td>\n",
              "      <td>13</td>\n",
              "    </tr>\n",
              "    <tr>\n",
              "      <th>1653</th>\n",
              "      <td>75011</td>\n",
              "      <td>5</td>\n",
              "      <td>579</td>\n",
              "      <td>11</td>\n",
              "    </tr>\n",
              "    <tr>\n",
              "      <th>8909</th>\n",
              "      <td>92400</td>\n",
              "      <td>5</td>\n",
              "      <td>133</td>\n",
              "      <td>5</td>\n",
              "    </tr>\n",
              "    <tr>\n",
              "      <th>228</th>\n",
              "      <td>75002</td>\n",
              "      <td>5</td>\n",
              "      <td>250</td>\n",
              "      <td>10</td>\n",
              "    </tr>\n",
              "  </tbody>\n",
              "</table>\n",
              "</div>"
            ],
            "text/plain": [
              "       postal_code  dayofweek  bluecars_taken_sum  utilib_taken_sum\n",
              "10000        93100          5                 245                 3\n",
              "1579         75011          5                 714                16\n",
              "10393        93130          5                  31                 4\n",
              "6316         92220          5                  74                 3\n",
              "1088         75007          5                 387                 6\n",
              "15955        95880          5                  25                 0\n",
              "1223         75008          5                 449                13\n",
              "1653         75011          5                 579                11\n",
              "8909         92400          5                 133                 5\n",
              "228          75002          5                 250                10"
            ]
          },
          "metadata": {
            "tags": []
          },
          "execution_count": 42
        }
      ]
    },
    {
      "cell_type": "code",
      "metadata": {
        "colab": {
          "base_uri": "https://localhost:8080/"
        },
        "id": "W-RwhoOt1-Zp",
        "outputId": "152b4ae2-db99-4484-d9f4-0f2b7cef086e"
      },
      "source": [
        "autolib_sample.shape"
      ],
      "execution_count": 52,
      "outputs": [
        {
          "output_type": "execute_result",
          "data": {
            "text/plain": [
              "(454, 4)"
            ]
          },
          "metadata": {
            "tags": []
          },
          "execution_count": 52
        }
      ]
    },
    {
      "cell_type": "code",
      "metadata": {
        "colab": {
          "base_uri": "https://localhost:8080/"
        },
        "id": "eWQM8_ceWqJJ",
        "outputId": "93926810-5bde-4f56-9212-50083cc498b7"
      },
      "source": [
        "# Population mean\n",
        "x = autolib_df['bluecars_taken_sum'].mean()\n",
        "\n",
        "y = autolib_df['utilib_taken_sum'].mean()\n",
        "\n",
        "print(x)\n",
        "print(y)"
      ],
      "execution_count": 43,
      "outputs": [
        {
          "output_type": "stream",
          "text": [
            "151.09006826690157\n",
            "4.393085223519049\n"
          ],
          "name": "stdout"
        }
      ]
    },
    {
      "cell_type": "code",
      "metadata": {
        "colab": {
          "base_uri": "https://localhost:8080/"
        },
        "id": "76xOL_nRXDv4",
        "outputId": "97df56ae-b7da-4c7e-f8d3-991646230c0b"
      },
      "source": [
        "# Sample mean\n",
        "xs = autolib_sample['bluecars_taken_sum'].mean()\n",
        "\n",
        "ys = autolib_sample['utilib_taken_sum'].mean()\n",
        "\n",
        "print(xs)\n",
        "print(ys)"
      ],
      "execution_count": 44,
      "outputs": [
        {
          "output_type": "stream",
          "text": [
            "153.43832599118943\n",
            "4.41409691629956\n"
          ],
          "name": "stdout"
        }
      ]
    },
    {
      "cell_type": "code",
      "metadata": {
        "colab": {
          "base_uri": "https://localhost:8080/"
        },
        "id": "wL1gQPRgXWAh",
        "outputId": "257c37e2-d9f0-4cd8-f857-f2600fe168cc"
      },
      "source": [
        "# Sample standard deviation\n",
        "sd = autolib_sample['bluecars_taken_sum'].std()\n",
        "sd"
      ],
      "execution_count": 45,
      "outputs": [
        {
          "output_type": "execute_result",
          "data": {
            "text/plain": [
              "236.0805310889112"
            ]
          },
          "metadata": {
            "tags": []
          },
          "execution_count": 45
        }
      ]
    },
    {
      "cell_type": "code",
      "metadata": {
        "colab": {
          "base_uri": "https://localhost:8080/",
          "height": 422
        },
        "id": "INgwNlVOZuVH",
        "outputId": "71c0cd4f-3eaa-40f2-8e42-d347ed52920c"
      },
      "source": [
        "autolib_sample[['bluecars_taken_sum','utilib_taken_sum']].apply(stats.zscore)"
      ],
      "execution_count": 46,
      "outputs": [
        {
          "output_type": "execute_result",
          "data": {
            "text/html": [
              "<div>\n",
              "<style scoped>\n",
              "    .dataframe tbody tr th:only-of-type {\n",
              "        vertical-align: middle;\n",
              "    }\n",
              "\n",
              "    .dataframe tbody tr th {\n",
              "        vertical-align: top;\n",
              "    }\n",
              "\n",
              "    .dataframe thead th {\n",
              "        text-align: right;\n",
              "    }\n",
              "</style>\n",
              "<table border=\"1\" class=\"dataframe\">\n",
              "  <thead>\n",
              "    <tr style=\"text-align: right;\">\n",
              "      <th></th>\n",
              "      <th>bluecars_taken_sum</th>\n",
              "      <th>utilib_taken_sum</th>\n",
              "    </tr>\n",
              "  </thead>\n",
              "  <tbody>\n",
              "    <tr>\n",
              "      <th>10000</th>\n",
              "      <td>0.388269</td>\n",
              "      <td>-0.203649</td>\n",
              "    </tr>\n",
              "    <tr>\n",
              "      <th>1579</th>\n",
              "      <td>2.377070</td>\n",
              "      <td>1.668528</td>\n",
              "    </tr>\n",
              "    <tr>\n",
              "      <th>10393</th>\n",
              "      <td>-0.519202</td>\n",
              "      <td>-0.059636</td>\n",
              "    </tr>\n",
              "    <tr>\n",
              "      <th>6316</th>\n",
              "      <td>-0.336859</td>\n",
              "      <td>-0.203649</td>\n",
              "    </tr>\n",
              "    <tr>\n",
              "      <th>1088</th>\n",
              "      <td>0.990422</td>\n",
              "      <td>0.228392</td>\n",
              "    </tr>\n",
              "    <tr>\n",
              "      <th>...</th>\n",
              "      <td>...</td>\n",
              "      <td>...</td>\n",
              "    </tr>\n",
              "    <tr>\n",
              "      <th>309</th>\n",
              "      <td>0.231370</td>\n",
              "      <td>0.372405</td>\n",
              "    </tr>\n",
              "    <tr>\n",
              "      <th>12905</th>\n",
              "      <td>-0.523442</td>\n",
              "      <td>-0.491676</td>\n",
              "    </tr>\n",
              "    <tr>\n",
              "      <th>10708</th>\n",
              "      <td>-0.421670</td>\n",
              "      <td>-0.635690</td>\n",
              "    </tr>\n",
              "    <tr>\n",
              "      <th>9519</th>\n",
              "      <td>0.286496</td>\n",
              "      <td>0.948460</td>\n",
              "    </tr>\n",
              "    <tr>\n",
              "      <th>13624</th>\n",
              "      <td>-0.438632</td>\n",
              "      <td>-0.059636</td>\n",
              "    </tr>\n",
              "  </tbody>\n",
              "</table>\n",
              "<p>454 rows × 2 columns</p>\n",
              "</div>"
            ],
            "text/plain": [
              "       bluecars_taken_sum  utilib_taken_sum\n",
              "10000            0.388269         -0.203649\n",
              "1579             2.377070          1.668528\n",
              "10393           -0.519202         -0.059636\n",
              "6316            -0.336859         -0.203649\n",
              "1088             0.990422          0.228392\n",
              "...                   ...               ...\n",
              "309              0.231370          0.372405\n",
              "12905           -0.523442         -0.491676\n",
              "10708           -0.421670         -0.635690\n",
              "9519             0.286496          0.948460\n",
              "13624           -0.438632         -0.059636\n",
              "\n",
              "[454 rows x 2 columns]"
            ]
          },
          "metadata": {
            "tags": []
          },
          "execution_count": 46
        }
      ]
    },
    {
      "cell_type": "markdown",
      "metadata": {
        "id": "T6RwMu0OoQXm"
      },
      "source": [
        "##### Applying the Z-Test\n",
        "> We conduct a Z-Test as the final stage of calculations in the attempt to test our hypothesis.\n",
        "> We conduct a Z-Test if:\n",
        "\n",
        ">-  Our sample size is greater than 30\n",
        ">-  Data points are independent from each other.\n",
        ">-  Data is normally distributed. For sample size greater than 30, this does not always matter.\n",
        ">-  Data should be randomnly selected.\n",
        ">-  Sample size should be equal if at all possible.\n",
        "\n",
        "\n",
        "> We will conduct a two sample z-test. We will check the two independent data groups to decide whether the sample mean of the two groups are equal or not."
      ]
    },
    {
      "cell_type": "code",
      "metadata": {
        "colab": {
          "base_uri": "https://localhost:8080/"
        },
        "id": "1AByVWFbX5nY",
        "outputId": "2304766e-9138-4881-de84-e8cc0c02904f"
      },
      "source": [
        "ztest, p_value = stests.ztest(autolib_df['bluecars_taken_sum'], x2 = autolib_df['utilib_taken_sum'], value = 0, alternative = 'two-sided')\n",
        "print('p_value : ', float(p_value))\n",
        "\n",
        "if p_value < 0.05:\n",
        "  print('We reject the null hypothesis')\n",
        "else:\n",
        "  print('We fail to reject the null hypothesis')"
      ],
      "execution_count": 48,
      "outputs": [
        {
          "output_type": "stream",
          "text": [
            "p_value :  0.0\n",
            "We reject the null hypothesis\n"
          ],
          "name": "stdout"
        }
      ]
    },
    {
      "cell_type": "markdown",
      "metadata": {
        "id": "Eeex81sdpsOX"
      },
      "source": [
        "Statistical analysis shows that there is a significant difference in the mean of the two areas hence we reject the null hypothesis."
      ]
    },
    {
      "cell_type": "markdown",
      "metadata": {
        "id": "hkW-hor7ln4o"
      },
      "source": [
        "Confidence Level"
      ]
    },
    {
      "cell_type": "code",
      "metadata": {
        "colab": {
          "base_uri": "https://localhost:8080/"
        },
        "id": "L4OMV9eIlprL",
        "outputId": "62e2b27b-bd12-4b69-e321-767516643a34"
      },
      "source": [
        "# Confidence level for Blue Cars\n",
        "import numpy as np\n",
        "\n",
        "#sample size\n",
        "sample_size = len(autolib_sample['bluecars_taken_sum'])\n",
        "sample_size\n",
        "\n",
        "#standard error\n",
        "std_error = autolib_sample['bluecars_taken_sum'].std()/np.sqrt(sample_size)\n",
        "std_error\n",
        "# The sample mean\n",
        "sample_mean = autolib_sample['bluecars_taken_sum'].mean()\n",
        "# Calculating a confidence interval \n",
        "import scipy.stats\n",
        "from scipy.stats import norm\n",
        "norm.interval(0.95, loc=sample_mean, scale=std_error)\n",
        "\n",
        "# We can be 95% certain that the population mean data is between 131.72 and 175.15"
      ],
      "execution_count": 50,
      "outputs": [
        {
          "output_type": "execute_result",
          "data": {
            "text/plain": [
              "(131.7223007350027, 175.15435124737616)"
            ]
          },
          "metadata": {
            "tags": []
          },
          "execution_count": 50
        }
      ]
    },
    {
      "cell_type": "code",
      "metadata": {
        "colab": {
          "base_uri": "https://localhost:8080/"
        },
        "id": "7XSwH5M8mrRH",
        "outputId": "689a6814-a764-4195-9761-f77d89d9376c"
      },
      "source": [
        "# Confidence level for Utilib Cars\n",
        "\n",
        "#sample size\n",
        "sample_size_ut = len(autolib_sample['utilib_taken_sum'])\n",
        "sample_size_ut\n",
        "\n",
        "#standard error\n",
        "std_error_ut = autolib_sample['utilib_taken_sum'].std()/np.sqrt(sample_size_ut)\n",
        "std_error_ut\n",
        "# The sample mean\n",
        "sample_mean = autolib_sample['utilib_taken_sum'].mean()\n",
        "#Calculating a confidence interval \n",
        "import scipy.stats\n",
        "from scipy.stats import norm\n",
        "norm.interval(0.95, loc=sample_mean, scale=std_error_ut)\n",
        "\n",
        "# We can be 95% certain that the population mean data is between 3.77 and 5.05"
      ],
      "execution_count": 51,
      "outputs": [
        {
          "output_type": "execute_result",
          "data": {
            "text/plain": [
              "(3.7746633501981894, 5.05353048240093)"
            ]
          },
          "metadata": {
            "tags": []
          },
          "execution_count": 51
        }
      ]
    },
    {
      "cell_type": "markdown",
      "metadata": {
        "id": "8-xqXiU2oJ_g"
      },
      "source": [
        "**Conclusion**\n",
        "\n",
        "We reject our Null Hypothesis of the mean Blue Cars taken on weekends is equal to Utilib Cars taken on weekends because the p-value(0.0) is less than our significance level 0.05"
      ]
    }
  ]
}